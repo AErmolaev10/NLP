{
  "nbformat": 4,
  "nbformat_minor": 0,
  "metadata": {
    "colab": {
      "name": "HW_3.ipynb",
      "provenance": [],
      "collapsed_sections": []
    },
    "kernelspec": {
      "name": "python3",
      "display_name": "Python 3"
    },
    "language_info": {
      "name": "python"
    },
    "accelerator": "GPU",
    "gpuClass": "standard"
  },
  "cells": [
    {
      "cell_type": "markdown",
      "source": [
        "# Embedding word2vec fasttext"
      ],
      "metadata": {
        "id": "ypo7TeVVEaQt"
      }
    },
    {
      "cell_type": "markdown",
      "source": [
        "на основе word2vec/fasttext реализовать метод поиска ближайших статей (на вход метода должен приходить запрос (какой-то вопрос) и количество вариантов вывода к примеру 5-ть, ваш метод должен возвращать 5-ть ближайших статей к этому запросу)\n",
        "Проверить насколько хорошо работают подходы"
      ],
      "metadata": {
        "id": "MKrgLiwEEU2J"
      }
    },
    {
      "cell_type": "code",
      "source": [
        "!pip install annoy"
      ],
      "metadata": {
        "colab": {
          "base_uri": "https://localhost:8080/"
        },
        "id": "t2g8G-VLVtYl",
        "outputId": "e11f7fe1-25bb-416e-852f-b3823db87d63"
      },
      "execution_count": 39,
      "outputs": [
        {
          "output_type": "stream",
          "name": "stdout",
          "text": [
            "Looking in indexes: https://pypi.org/simple, https://us-python.pkg.dev/colab-wheels/public/simple/\n",
            "Requirement already satisfied: annoy in /usr/local/lib/python3.7/dist-packages (1.17.0)\n"
          ]
        }
      ]
    },
    {
      "cell_type": "code",
      "source": [
        "!pip install gensim"
      ],
      "metadata": {
        "colab": {
          "base_uri": "https://localhost:8080/"
        },
        "id": "nCklL-EPVtdB",
        "outputId": "96e47ded-f27f-4e93-a82c-37d7f7ce7fe0"
      },
      "execution_count": 40,
      "outputs": [
        {
          "output_type": "stream",
          "name": "stdout",
          "text": [
            "Looking in indexes: https://pypi.org/simple, https://us-python.pkg.dev/colab-wheels/public/simple/\n",
            "Requirement already satisfied: gensim in /usr/local/lib/python3.7/dist-packages (3.6.0)\n",
            "Requirement already satisfied: six>=1.5.0 in /usr/local/lib/python3.7/dist-packages (from gensim) (1.15.0)\n",
            "Requirement already satisfied: numpy>=1.11.3 in /usr/local/lib/python3.7/dist-packages (from gensim) (1.21.6)\n",
            "Requirement already satisfied: smart-open>=1.2.1 in /usr/local/lib/python3.7/dist-packages (from gensim) (5.2.1)\n",
            "Requirement already satisfied: scipy>=0.18.1 in /usr/local/lib/python3.7/dist-packages (from gensim) (1.4.1)\n"
          ]
        }
      ]
    },
    {
      "cell_type": "code",
      "source": [
        "!pip install pymorphy2"
      ],
      "metadata": {
        "colab": {
          "base_uri": "https://localhost:8080/"
        },
        "id": "SsbpU92NVxTd",
        "outputId": "b45e0fe4-bad2-467b-bea9-38799e835628"
      },
      "execution_count": 41,
      "outputs": [
        {
          "output_type": "stream",
          "name": "stdout",
          "text": [
            "Looking in indexes: https://pypi.org/simple, https://us-python.pkg.dev/colab-wheels/public/simple/\n",
            "Requirement already satisfied: pymorphy2 in /usr/local/lib/python3.7/dist-packages (0.9.1)\n",
            "Requirement already satisfied: docopt>=0.6 in /usr/local/lib/python3.7/dist-packages (from pymorphy2) (0.6.2)\n",
            "Requirement already satisfied: pymorphy2-dicts-ru<3.0,>=2.4 in /usr/local/lib/python3.7/dist-packages (from pymorphy2) (2.4.417127.4579844)\n",
            "Requirement already satisfied: dawg-python>=0.7.1 in /usr/local/lib/python3.7/dist-packages (from pymorphy2) (0.7.2)\n"
          ]
        }
      ]
    },
    {
      "cell_type": "code",
      "source": [
        "!pip install stop_words"
      ],
      "metadata": {
        "colab": {
          "base_uri": "https://localhost:8080/"
        },
        "id": "AnqiZ1PAV8pQ",
        "outputId": "d80e0ec2-d2d1-4f5c-ccaf-a02c241a8811"
      },
      "execution_count": 42,
      "outputs": [
        {
          "output_type": "stream",
          "name": "stdout",
          "text": [
            "Looking in indexes: https://pypi.org/simple, https://us-python.pkg.dev/colab-wheels/public/simple/\n",
            "Requirement already satisfied: stop_words in /usr/local/lib/python3.7/dist-packages (2018.7.23)\n"
          ]
        }
      ]
    },
    {
      "cell_type": "code",
      "source": [
        "pip install corus"
      ],
      "metadata": {
        "colab": {
          "base_uri": "https://localhost:8080/"
        },
        "id": "WyXFF52Jbx3t",
        "outputId": "c2345e76-597d-4148-e933-850ac928eede"
      },
      "execution_count": 43,
      "outputs": [
        {
          "output_type": "stream",
          "name": "stdout",
          "text": [
            "Looking in indexes: https://pypi.org/simple, https://us-python.pkg.dev/colab-wheels/public/simple/\n",
            "Requirement already satisfied: corus in /usr/local/lib/python3.7/dist-packages (0.9.0)\n"
          ]
        }
      ]
    },
    {
      "cell_type": "code",
      "execution_count": 44,
      "metadata": {
        "id": "ICcSOAj9EBnH"
      },
      "outputs": [],
      "source": [
        "import pandas as pd\n",
        "import numpy as np\n",
        "import re\n",
        "import string\n",
        "from pymorphy2 import MorphAnalyzer\n",
        "from stop_words import get_stop_words\n",
        "import annoy\n",
        "from gensim.models import Word2Vec, FastText"
      ]
    },
    {
      "cell_type": "code",
      "source": [
        "from corus import load_ods_gazeta\n",
        "path = '/gazeta.csv.gz'\n",
        "records = load_ods_gazeta(path)\n",
        "next(records)"
      ],
      "metadata": {
        "id": "Gm8-rg5LGFwU",
        "colab": {
          "base_uri": "https://localhost:8080/"
        },
        "outputId": "1a80e1c0-65db-465a-e9d5-355b9a26881b"
      },
      "execution_count": 45,
      "outputs": [
        {
          "output_type": "execute_result",
          "data": {
            "text/plain": [
              "NewsRecord(\n",
              "    timestamp=datetime.datetime(2008, 11, 21, 15, 19, 14),\n",
              "    url='https://www.gazeta.ru/news/business/2008/11/21/n_1298950.shtml',\n",
              "    edition=None,\n",
              "    topics='Бизнес',\n",
              "    authors=None,\n",
              "    title='Госдума сокращает срок действия ставки экспортных пошлин на нефть',\n",
              "    text='Госдума приняла сегодня в первом чтении и сразу в целом поправки в закон «О таможенном тарифе», сокращающие срок действия ставки экспортных пошлин на нефть с 2-х до 1-го месяца.nnДля установления средних цен на нефть марки Urals и расчета экспортных пошлин правительство России в течение двух месяцев проводит мониторинг на международных рынках нефтяного сырья (средиземноморском и роттердамском), экспортные пошлины на нефть устанавливаются также раз в два месяца.nnСокращение на месяц периода мониторинга (с 15-го числа каждого календарного месяца по 14-е число следующего месяца) и соответственно срока действия ставок экспортных пошлин «позволит более оперативно реагировать на изменения экономической ситуации в стране и сэкономить нефтяникам миллиарды рублей», считают разработчики. Экспортные ставки будут вводиться с 1 числа календарного месяца, следующего за окончанием периода мониторинга.',\n",
              "    stats=Stats(\n",
              "        fb=None,\n",
              "        vk=None,\n",
              "        ok=None,\n",
              "        twitter=None,\n",
              "        lj=None,\n",
              "        tg=None,\n",
              "        likes=None,\n",
              "        views=None,\n",
              "        comments=None\n",
              "    )\n",
              ")"
            ]
          },
          "metadata": {},
          "execution_count": 45
        }
      ]
    },
    {
      "cell_type": "code",
      "source": [
        "df = pd.DataFrame(records)"
      ],
      "metadata": {
        "id": "g8HSbc-VcyiN"
      },
      "execution_count": 46,
      "outputs": []
    },
    {
      "cell_type": "code",
      "source": [
        "df.head()"
      ],
      "metadata": {
        "colab": {
          "base_uri": "https://localhost:8080/",
          "height": 562
        },
        "id": "RsvPqe13mnVa",
        "outputId": "068a269d-606b-4b14-ad67-fd103a57368a"
      },
      "execution_count": 47,
      "outputs": [
        {
          "output_type": "execute_result",
          "data": {
            "text/plain": [
              "                    0                                                  1  \\\n",
              "0 2012-09-27 10:54:51  https://www.gazeta.ru/science/news/2012/09/27/...   \n",
              "1 2015-12-01 15:28:45      https://www.gazeta.ru/army/news/7957079.shtml   \n",
              "2 2013-04-18 16:42:06  https://www.gazeta.ru/travel/news/2013/04/18/n...   \n",
              "3 2012-09-26 13:54:13  https://www.gazeta.ru/politics/news/2012/09/26...   \n",
              "4 2012-09-26 21:11:33  https://www.gazeta.ru/culture/news/2012/09/26/...   \n",
              "\n",
              "      2         3     4                                                  5  \\\n",
              "0  None     Наука  None   Японские физики повторили синтез 113-го элемента   \n",
              "1  None     Армия  None        Times: Россия строит новую авиабазу в Сирии   \n",
              "2  None   Новости  None  Власти Египта гарантируют безопасность российс...   \n",
              "3  None  Политика  None  Гордума Новочеркасска приняла отставку мэра го...   \n",
              "4  None  Культура  None  Министерство культуры назвало фильмы, на котор...   \n",
              "\n",
              "                                                   6  \\\n",
              "0  Японские ученые из физического центра RIKEN за...   \n",
              "1  Россия готовится расширить свою военную операц...   \n",
              "2  Египет ждет российских туристов и гарантирует ...   \n",
              "3  В Ростовской области депутаты гордумы Новочерк...   \n",
              "4  Министерство культуры России определило перече...   \n",
              "\n",
              "                                                   7  \n",
              "0  Stats(fb=None, vk=None, ok=None, twitter=None,...  \n",
              "1  Stats(fb=None, vk=None, ok=None, twitter=None,...  \n",
              "2  Stats(fb=None, vk=None, ok=None, twitter=None,...  \n",
              "3  Stats(fb=None, vk=None, ok=None, twitter=None,...  \n",
              "4  Stats(fb=None, vk=None, ok=None, twitter=None,...  "
            ],
            "text/html": [
              "\n",
              "  <div id=\"df-8b36b810-d2c1-4784-9e76-832ce630e416\">\n",
              "    <div class=\"colab-df-container\">\n",
              "      <div>\n",
              "<style scoped>\n",
              "    .dataframe tbody tr th:only-of-type {\n",
              "        vertical-align: middle;\n",
              "    }\n",
              "\n",
              "    .dataframe tbody tr th {\n",
              "        vertical-align: top;\n",
              "    }\n",
              "\n",
              "    .dataframe thead th {\n",
              "        text-align: right;\n",
              "    }\n",
              "</style>\n",
              "<table border=\"1\" class=\"dataframe\">\n",
              "  <thead>\n",
              "    <tr style=\"text-align: right;\">\n",
              "      <th></th>\n",
              "      <th>0</th>\n",
              "      <th>1</th>\n",
              "      <th>2</th>\n",
              "      <th>3</th>\n",
              "      <th>4</th>\n",
              "      <th>5</th>\n",
              "      <th>6</th>\n",
              "      <th>7</th>\n",
              "    </tr>\n",
              "  </thead>\n",
              "  <tbody>\n",
              "    <tr>\n",
              "      <th>0</th>\n",
              "      <td>2012-09-27 10:54:51</td>\n",
              "      <td>https://www.gazeta.ru/science/news/2012/09/27/...</td>\n",
              "      <td>None</td>\n",
              "      <td>Наука</td>\n",
              "      <td>None</td>\n",
              "      <td>Японские физики повторили синтез 113-го элемента</td>\n",
              "      <td>Японские ученые из физического центра RIKEN за...</td>\n",
              "      <td>Stats(fb=None, vk=None, ok=None, twitter=None,...</td>\n",
              "    </tr>\n",
              "    <tr>\n",
              "      <th>1</th>\n",
              "      <td>2015-12-01 15:28:45</td>\n",
              "      <td>https://www.gazeta.ru/army/news/7957079.shtml</td>\n",
              "      <td>None</td>\n",
              "      <td>Армия</td>\n",
              "      <td>None</td>\n",
              "      <td>Times: Россия строит новую авиабазу в Сирии</td>\n",
              "      <td>Россия готовится расширить свою военную операц...</td>\n",
              "      <td>Stats(fb=None, vk=None, ok=None, twitter=None,...</td>\n",
              "    </tr>\n",
              "    <tr>\n",
              "      <th>2</th>\n",
              "      <td>2013-04-18 16:42:06</td>\n",
              "      <td>https://www.gazeta.ru/travel/news/2013/04/18/n...</td>\n",
              "      <td>None</td>\n",
              "      <td>Новости</td>\n",
              "      <td>None</td>\n",
              "      <td>Власти Египта гарантируют безопасность российс...</td>\n",
              "      <td>Египет ждет российских туристов и гарантирует ...</td>\n",
              "      <td>Stats(fb=None, vk=None, ok=None, twitter=None,...</td>\n",
              "    </tr>\n",
              "    <tr>\n",
              "      <th>3</th>\n",
              "      <td>2012-09-26 13:54:13</td>\n",
              "      <td>https://www.gazeta.ru/politics/news/2012/09/26...</td>\n",
              "      <td>None</td>\n",
              "      <td>Политика</td>\n",
              "      <td>None</td>\n",
              "      <td>Гордума Новочеркасска приняла отставку мэра го...</td>\n",
              "      <td>В Ростовской области депутаты гордумы Новочерк...</td>\n",
              "      <td>Stats(fb=None, vk=None, ok=None, twitter=None,...</td>\n",
              "    </tr>\n",
              "    <tr>\n",
              "      <th>4</th>\n",
              "      <td>2012-09-26 21:11:33</td>\n",
              "      <td>https://www.gazeta.ru/culture/news/2012/09/26/...</td>\n",
              "      <td>None</td>\n",
              "      <td>Культура</td>\n",
              "      <td>None</td>\n",
              "      <td>Министерство культуры назвало фильмы, на котор...</td>\n",
              "      <td>Министерство культуры России определило перече...</td>\n",
              "      <td>Stats(fb=None, vk=None, ok=None, twitter=None,...</td>\n",
              "    </tr>\n",
              "  </tbody>\n",
              "</table>\n",
              "</div>\n",
              "      <button class=\"colab-df-convert\" onclick=\"convertToInteractive('df-8b36b810-d2c1-4784-9e76-832ce630e416')\"\n",
              "              title=\"Convert this dataframe to an interactive table.\"\n",
              "              style=\"display:none;\">\n",
              "        \n",
              "  <svg xmlns=\"http://www.w3.org/2000/svg\" height=\"24px\"viewBox=\"0 0 24 24\"\n",
              "       width=\"24px\">\n",
              "    <path d=\"M0 0h24v24H0V0z\" fill=\"none\"/>\n",
              "    <path d=\"M18.56 5.44l.94 2.06.94-2.06 2.06-.94-2.06-.94-.94-2.06-.94 2.06-2.06.94zm-11 1L8.5 8.5l.94-2.06 2.06-.94-2.06-.94L8.5 2.5l-.94 2.06-2.06.94zm10 10l.94 2.06.94-2.06 2.06-.94-2.06-.94-.94-2.06-.94 2.06-2.06.94z\"/><path d=\"M17.41 7.96l-1.37-1.37c-.4-.4-.92-.59-1.43-.59-.52 0-1.04.2-1.43.59L10.3 9.45l-7.72 7.72c-.78.78-.78 2.05 0 2.83L4 21.41c.39.39.9.59 1.41.59.51 0 1.02-.2 1.41-.59l7.78-7.78 2.81-2.81c.8-.78.8-2.07 0-2.86zM5.41 20L4 18.59l7.72-7.72 1.47 1.35L5.41 20z\"/>\n",
              "  </svg>\n",
              "      </button>\n",
              "      \n",
              "  <style>\n",
              "    .colab-df-container {\n",
              "      display:flex;\n",
              "      flex-wrap:wrap;\n",
              "      gap: 12px;\n",
              "    }\n",
              "\n",
              "    .colab-df-convert {\n",
              "      background-color: #E8F0FE;\n",
              "      border: none;\n",
              "      border-radius: 50%;\n",
              "      cursor: pointer;\n",
              "      display: none;\n",
              "      fill: #1967D2;\n",
              "      height: 32px;\n",
              "      padding: 0 0 0 0;\n",
              "      width: 32px;\n",
              "    }\n",
              "\n",
              "    .colab-df-convert:hover {\n",
              "      background-color: #E2EBFA;\n",
              "      box-shadow: 0px 1px 2px rgba(60, 64, 67, 0.3), 0px 1px 3px 1px rgba(60, 64, 67, 0.15);\n",
              "      fill: #174EA6;\n",
              "    }\n",
              "\n",
              "    [theme=dark] .colab-df-convert {\n",
              "      background-color: #3B4455;\n",
              "      fill: #D2E3FC;\n",
              "    }\n",
              "\n",
              "    [theme=dark] .colab-df-convert:hover {\n",
              "      background-color: #434B5C;\n",
              "      box-shadow: 0px 1px 3px 1px rgba(0, 0, 0, 0.15);\n",
              "      filter: drop-shadow(0px 1px 2px rgba(0, 0, 0, 0.3));\n",
              "      fill: #FFFFFF;\n",
              "    }\n",
              "  </style>\n",
              "\n",
              "      <script>\n",
              "        const buttonEl =\n",
              "          document.querySelector('#df-8b36b810-d2c1-4784-9e76-832ce630e416 button.colab-df-convert');\n",
              "        buttonEl.style.display =\n",
              "          google.colab.kernel.accessAllowed ? 'block' : 'none';\n",
              "\n",
              "        async function convertToInteractive(key) {\n",
              "          const element = document.querySelector('#df-8b36b810-d2c1-4784-9e76-832ce630e416');\n",
              "          const dataTable =\n",
              "            await google.colab.kernel.invokeFunction('convertToInteractive',\n",
              "                                                     [key], {});\n",
              "          if (!dataTable) return;\n",
              "\n",
              "          const docLinkHtml = 'Like what you see? Visit the ' +\n",
              "            '<a target=\"_blank\" href=https://colab.research.google.com/notebooks/data_table.ipynb>data table notebook</a>'\n",
              "            + ' to learn more about interactive tables.';\n",
              "          element.innerHTML = '';\n",
              "          dataTable['output_type'] = 'display_data';\n",
              "          await google.colab.output.renderOutput(dataTable, element);\n",
              "          const docLink = document.createElement('div');\n",
              "          docLink.innerHTML = docLinkHtml;\n",
              "          element.appendChild(docLink);\n",
              "        }\n",
              "      </script>\n",
              "    </div>\n",
              "  </div>\n",
              "  "
            ]
          },
          "metadata": {},
          "execution_count": 47
        }
      ]
    },
    {
      "cell_type": "code",
      "source": [
        "def preprocess_txt(line):\n",
        "    spls = \"\".join(i for i in line.strip() if i not in exclude).split()\n",
        "    spls = [morpher.parse(i.lower())[0].normal_form for i in spls]\n",
        "    spls = [i for i in spls if i not in sw and i != \"\"]\n",
        "    return spls"
      ],
      "metadata": {
        "id": "-zbDry71pIOw"
      },
      "execution_count": 48,
      "outputs": []
    },
    {
      "cell_type": "code",
      "source": [
        "assert True\n",
        "\n",
        "sentences = []\n",
        "\n",
        "morpher = MorphAnalyzer()\n",
        "sw = set(get_stop_words(\"ru\"))\n",
        "exclude = set(string.punctuation)\n",
        "c = 0\n",
        "\n",
        "for line in df[6]:\n",
        "    spls = preprocess_txt(line)\n",
        "    sentences.append(spls)\n",
        "    c += 1\n",
        "    if c > 100000:\n",
        "        break"
      ],
      "metadata": {
        "id": "Jo4NtOUApMlV"
      },
      "execution_count": 49,
      "outputs": []
    },
    {
      "cell_type": "code",
      "source": [
        "sentences = [i for i in sentences if len(i) > 2]"
      ],
      "metadata": {
        "id": "iFQBZ9GYJRPa"
      },
      "execution_count": 50,
      "outputs": []
    },
    {
      "cell_type": "code",
      "source": [
        "sentences[0]"
      ],
      "metadata": {
        "colab": {
          "base_uri": "https://localhost:8080/"
        },
        "id": "R46Qh26VJWw4",
        "outputId": "557f81b7-8d93-4c0a-b8b3-6e19a13f0969"
      },
      "execution_count": 51,
      "outputs": [
        {
          "output_type": "execute_result",
          "data": {
            "text/plain": [
              "['японский',\n",
              " 'учёный',\n",
              " 'физический',\n",
              " 'центр',\n",
              " 'riken',\n",
              " 'заявлять',\n",
              " 'удаться',\n",
              " 'синтезировать',\n",
              " 'атом',\n",
              " '113го',\n",
              " 'элемент',\n",
              " 'таблица',\n",
              " 'менделеев',\n",
              " 'элемент',\n",
              " 'впервые',\n",
              " 'получить',\n",
              " '2003',\n",
              " 'российский',\n",
              " 'американский',\n",
              " 'физик',\n",
              " 'эксперимент',\n",
              " 'синтез',\n",
              " '115го',\n",
              " 'элемент',\n",
              " 'открытие',\n",
              " 'признать',\n",
              " 'международный',\n",
              " 'союз',\n",
              " 'теоретический',\n",
              " 'прикладной',\n",
              " 'химия',\n",
              " 'сообщаетnриа',\n",
              " '«новости»nnть',\n",
              " 'природа',\n",
              " 'существовать',\n",
              " 'элемент',\n",
              " 'атомный',\n",
              " 'номер',\n",
              " 'число',\n",
              " 'протон',\n",
              " 'ядро',\n",
              " 'атом',\n",
              " 'большой',\n",
              " '92',\n",
              " 'тяжёлый',\n",
              " 'уран',\n",
              " 'тяжёлый',\n",
              " 'элемент',\n",
              " 'например',\n",
              " 'плутоний',\n",
              " 'нарабатываться',\n",
              " 'атомный',\n",
              " 'реактор',\n",
              " 'элемент',\n",
              " 'тяжёлый',\n",
              " '100го',\n",
              " 'фермий',\n",
              " 'получать',\n",
              " 'ускоритель',\n",
              " 'путём',\n",
              " 'бомбардировка',\n",
              " 'мишень',\n",
              " 'тяжёлый',\n",
              " 'ион',\n",
              " 'слияние',\n",
              " 'ядро',\n",
              " 'мишень',\n",
              " '«снаряда»',\n",
              " 'возникать',\n",
              " 'ядро',\n",
              " 'новый',\n",
              " 'элементаnnгруппа',\n",
              " 'учёный',\n",
              " 'руководство',\n",
              " 'косука',\n",
              " 'морить',\n",
              " 'статья',\n",
              " 'опубликовать',\n",
              " 'journal',\n",
              " 'of',\n",
              " 'physical',\n",
              " 'society',\n",
              " 'of',\n",
              " 'japan',\n",
              " 'описывать',\n",
              " 'результат',\n",
              " 'многолетний',\n",
              " 'эксперимент',\n",
              " 'линейный',\n",
              " 'ускоритель',\n",
              " 'расположить',\n",
              " 'город',\n",
              " 'вако',\n",
              " 'окрестность',\n",
              " 'токио',\n",
              " '2003',\n",
              " 'исследователь',\n",
              " 'пытаться',\n",
              " 'получить',\n",
              " '113ть',\n",
              " 'элемент',\n",
              " 'бомбардировать',\n",
              " 'ускоритель',\n",
              " 'мишень',\n",
              " 'висмута209',\n",
              " 'пучок',\n",
              " 'ион',\n",
              " 'цинка70',\n",
              " 'разогнать',\n",
              " 'скорость',\n",
              " 'свет',\n",
              " 'висмутаnть',\n",
              " 'результат',\n",
              " 'удаться',\n",
              " 'зафиксировать',\n",
              " 'цепочка',\n",
              " 'распад',\n",
              " 'соответствующий',\n",
              " 'событие',\n",
              " 'рождение',\n",
              " '113го',\n",
              " 'элемент',\n",
              " '23',\n",
              " 'июль',\n",
              " '2004',\n",
              " '2',\n",
              " 'апрель',\n",
              " '2005',\n",
              " '12',\n",
              " 'август',\n",
              " '2012',\n",
              " 'ядро',\n",
              " 'новый',\n",
              " 'элемент',\n",
              " 'составить',\n",
              " '49',\n",
              " '03',\n",
              " 'миллисекундыnкак',\n",
              " 'считать',\n",
              " 'японский',\n",
              " 'учёный',\n",
              " 'открытие',\n",
              " 'стать',\n",
              " 'основание',\n",
              " 'международный',\n",
              " 'союз',\n",
              " 'теоретический',\n",
              " 'прикладной',\n",
              " 'химия',\n",
              " 'признать',\n",
              " 'открытие',\n",
              " 'случай',\n",
              " 'японский',\n",
              " 'учёный',\n",
              " 'впервые',\n",
              " 'история',\n",
              " 'получить',\n",
              " 'право',\n",
              " 'дать',\n",
              " 'название',\n",
              " 'новый',\n",
              " 'элемент',\n",
              " 'признание',\n",
              " 'требоваться',\n",
              " 'независимый',\n",
              " 'подтверждение',\n",
              " 'эксперимент',\n",
              " 'должный',\n",
              " 'повторный',\n",
              " 'лаборатория',\n",
              " 'перекрёстный',\n",
              " 'реакцииn«этый',\n",
              " 'выдающийся',\n",
              " 'результат',\n",
              " 'воспроизвести',\n",
              " 'крайне',\n",
              " 'трудно',\n",
              " 'поскольку',\n",
              " 'регистрироваться',\n",
              " 'примерно',\n",
              " 'событие',\n",
              " 'перекрёстный',\n",
              " 'реакция',\n",
              " 'существует»',\n",
              " 'андрей',\n",
              " 'попёкий',\n",
              " 'заместитель',\n",
              " 'директор',\n",
              " 'лаборатория',\n",
              " 'флёровый',\n",
              " 'объединить',\n",
              " 'институт',\n",
              " 'ядерный',\n",
              " 'исследование',\n",
              " 'дубна']"
            ]
          },
          "metadata": {},
          "execution_count": 51
        }
      ]
    },
    {
      "cell_type": "code",
      "source": [
        "modelW2V = Word2Vec(sentences=sentences, size=300, window=5, min_count=3)"
      ],
      "metadata": {
        "id": "oym686g_JfCM"
      },
      "execution_count": 52,
      "outputs": []
    },
    {
      "cell_type": "code",
      "source": [
        "modelFT = FastText(sentences=sentences, size=300, min_count=3, window=5, workers=8)"
      ],
      "metadata": {
        "id": "kjn6xiQAJhq1"
      },
      "execution_count": 53,
      "outputs": []
    },
    {
      "cell_type": "code",
      "source": [
        "w2v_index = annoy.AnnoyIndex(300 ,'angular')\n",
        "ft_index = annoy.AnnoyIndex(300 ,'angular')\n",
        "\n",
        "counter = 0\n",
        "index_map = {}\n",
        "\n",
        "for line in df[6]:\n",
        "    n_w2v = 0\n",
        "    n_ft = 0\n",
        "    index_map[counter] = line\n",
        "    text = preprocess_txt(line)\n",
        "    \n",
        "    vector_w2v = np.zeros(300)\n",
        "    vector_ft = np.zeros(300)\n",
        "    for word in text:\n",
        "        if word in modelW2V.wv:\n",
        "            vector_w2v += modelW2V.wv[word]\n",
        "            n_w2v += 1\n",
        "        if word in modelFT.wv:\n",
        "            vector_ft += modelFT.wv[word]\n",
        "            n_ft += 1\n",
        "    if n_w2v > 0:\n",
        "        vector_w2v = vector_w2v / n_w2v\n",
        "    if n_ft > 0:\n",
        "        vector_ft = vector_ft / n_ft\n",
        "    w2v_index.add_item(counter, vector_w2v)\n",
        "    ft_index.add_item(counter, vector_ft)\n",
        "    counter += 1\n",
        "\n",
        "    if counter > 100000:\n",
        "        break\n",
        "\n",
        "w2v_index.build(10)\n",
        "ft_index.build(10)"
      ],
      "metadata": {
        "colab": {
          "base_uri": "https://localhost:8080/"
        },
        "id": "s6g2QM-IMNAO",
        "outputId": "8496a17f-3214-484e-92b9-6d451fa2648c"
      },
      "execution_count": 55,
      "outputs": [
        {
          "output_type": "execute_result",
          "data": {
            "text/plain": [
              "True"
            ]
          },
          "metadata": {},
          "execution_count": 55
        }
      ]
    },
    {
      "cell_type": "code",
      "source": [
        "def get_response(question, index, model, index_map):\n",
        "    question = preprocess_txt(question)\n",
        "    vector = np.zeros(300)\n",
        "    norm = 0\n",
        "    for word in question:\n",
        "        if word in model.wv:\n",
        "            vector += model.wv[word]\n",
        "            norm += 1\n",
        "    if norm > 0:\n",
        "        vector = vector / norm\n",
        "    answers = index.get_nns_by_vector(vector, 5, )\n",
        "    return [index_map[i] for i in answers]"
      ],
      "metadata": {
        "id": "rRaui-BWiwa8"
      },
      "execution_count": 56,
      "outputs": []
    },
    {
      "cell_type": "code",
      "source": [
        "TEXT = \"какой город самы красивый\""
      ],
      "metadata": {
        "id": "wR1FK-5Ti3YG"
      },
      "execution_count": 57,
      "outputs": []
    },
    {
      "cell_type": "code",
      "source": [
        "get_response(TEXT, w2v_index, modelW2V, index_map)"
      ],
      "metadata": {
        "colab": {
          "base_uri": "https://localhost:8080/"
        },
        "id": "autl5ibyi9gW",
        "outputId": "ced26342-f8b9-4a31-928a-4ccf6aa8e636"
      },
      "execution_count": 58,
      "outputs": [
        {
          "output_type": "execute_result",
          "data": {
            "text/plain": [
              "['В эти выходные Москва отмечает свое 870-летие. Юбилей Москвы празднуют всего в четвертый раз за всю историю города. Впервые это произошло еще 170 лет назад, в те времена, когда столицей России был Санкт-Петербург. «Газета.Ru» рассказывает, как чествовали Москву в разные века и как складывались традиции праздника.nВпервые юбилей Москвы отмечали в 1847 году. Идею отпраздновать 700-летие города продвигали интеллектуалы-славянофилы, которые были заодно и «москвофилами». В те времена еще спорили о том, в каком именно году основали Москву, и, тем более, не было конкретного дня, на который можно было бы назначить торжества. Историки предлагали разные даты и в итоге остановились на весне 1847 года.nПрограмма подготовки к юбилею включала мероприятия, которые вполне могли бы сопровождать День города и в наши дни: художникам предложили написать картины с видами Москвы, историкам — создать описания ее церквей, монастырей, Московского университета, почтамта и других учреждений, а также — быта, нравов и обычаев местных жителей. В городе собирались установить «инфостенды» — таблички с пояснением, чем примечательны те или иные места.nnПредписание московского военного генерал-губернатора А.Г. Щербатова московскому городскому голове С.Л. Лепешкину об организации празднования 700-летия Москвы, 25 декабря 1846 годаnnЭнтузиасты юбилея задумали трехдневные гуляния с иллюминацией. В разные дни должны были пройти церковные службы, «ученое торжество» в Московском университете, балы, народные гуляния на площадях с раздачей угощений. Но первопроходцы часто сталкиваются с трудностями, и, к сожалению, этим замечательным планам не суждено было сбыться.nСтолицей России тогда был Санкт-Петербург, где к идее масштабного празднования юбилея Москвы отнеслись настороженно. Но в итоге 31 декабря 1846 года вышел императорский указ о том, что провести торжество нужно 1 января – то есть уже на следующий день!nКонечно же, за новогоднюю ночь подготовиться к празднику было невозможно. Знаковое событие все-таки состоялось, но в «темпе вальса»: прошел праздничный молебен, а москвичи провели вечер за застольями и разговорами о любимом городе. Что касается иллюминации, то на стенах Кремля со стороны Красной площади, дома генерала-губернатора (ныне – здание мэрии) и других были укреплены сальные плошки, образовывавшие узоры или строки молитвы. Впрочем, далеко не все надписи можно было прочесть, так как светильники быстро гасли на ветру.nУдивительно, но в 1897 году москвичи юбилей Москвы пропустили. Хотя планы на эту дату были масштабные. Так,nисторик Николай Бочаров выпустил несколько статей, где предлагал «три четверти тысячелетия» наконец отметить по-настоящемуn(празднование 700-летия города было, по его мнению, не удачным). «Чувства любви и уважения к родной старине, рост национального самосознания… значительно подвинулись вперёд за последние годы, — так что празднование 750-летия Москвы было бы теперь как нельзя более кстати», — писал Бочаров.nВозможно, на решение не отмечать 750-летие города повлияли трагические события на коронации императора Николая II годом ранее, во время которой на Ходынском поле случилась давка, унесшая жизни почти 1,4 тыс. человек. Скорее всего, память о столь огромных жертвах еще была жива в памяти горожан, и те попросту боялись повторения подобных случаев. Повлияла на город и внутренняя политика страны, в результате которой на улицах ходило множество бродяг и нищих, как настоящих, так и «липовых», а также аферистов разного рода.nВ 1947 году Москва была уже совершенно другим городом — столицей государства, пережившего тяжелую и кровавую войну. Хотя страна и переживала трудные послевоенные годы, проведение подобного праздника вызвало огромный патриотический подъем.n800-летний юбилей столицы решено было провести осенью, 7 сентября. Центром юбилейного торжества стал стадион «Динамо», где проходило большое спортивное представление, а на Москве-реке тем временем устроили водный праздник. Позже к москвичам с поздравительной речью обратился Иосиф Сталин, подчеркнув важную роль столицы в объединении русских земель и ее будущую задачу как «знаменосца новой эпохи».nnПразднование 800-летия Москвы около одноименной гостиницы на Манежной площади, сентябрь 1947 годаnnК празднику город принарядили: высадили 124 тыс. деревьев, улицы украсили флажками, электрическими гирляндами, плакатами и портретами национальных героев. На площадях соорудили танцевальные площадки, в киосках торговали сувенирами и мороженым. Играли духовые оркестры, музеи и театры были переполнены посетителями.nВ этот день были заложены фундаменты восьми высотных зданий, семь из которых достроены и сегодня являются одним из символов Москвы.nГлавное здание МГУ, жилой дом на Кудринской площади, гостиница «Украина», здание Министерства иностранных дел и другие — в современных путеводителях их часто называют «семь сестер». Также в городе состоялся многотысячный митинг, посвященный установке памятника основателю столицы — Юрию Долгорукому.nВечером центр столицы осветили огни иллюминации. Завершился юбилей праздничным салютом и фейерверками. Аэростаты подняли в небо огромное изображение Сталина. При этом свет прожекторов был направлен так, чтобы зрители могли видеть только портрет вождя.nВ 1997 году 850-летие Москвы отмечали с большим размахом на протяжении трех дней. Именно тогда зародилась новая традиция ежегодно праздновать в первые выходные сентября День города.nnТеатрализованное шествие «На нашей улице праздник» во время празднования 850-летия Москвы, сентябрь 1997 годаnnОдним из самых значимых событий стало воссоздание Храма Христа Спасителя, взорванного в 1931 году. В день юбилея здание было торжественно освящено Патриархом. Кроме того, к памятной дате было приурочено открытие новых или отреставрированных знаковых сооружений – первая очередь Московского зоопарк, Музей археологии и других. На Москве-реке был построен единственный в России торгово-пешеходный мост «Багратион». Именно к 850-летию столицы, впрочем, в городе появились и куда менее любимые столичными жителями объекты, например, памятник Петру Великому или обновленная Манежная площадь с торговым центром «Охотный ряд».nПо Тверской улице, которая стала пешеходной, прошел красочный парад с движущимися платформами, в том числе в виде змея, пораженного святым покровителем Москвы Георгием Победоносцем. Участие в параде принял даже самый настоящий слон!nНо главным событием стало грандиозное лазерное шоу на Воробьевых горах, где выступил французский музыкант Жан-Мишель Жарр. Во время представления стены главного здания МГУ были использованы в качестве огромных экранов, на которых показывали кадры из истории России. В качестве специальных гостей выступили космонавты с Международной Космической Станции «Мир»: видео с ними транслировалось на фасад МГУ.nНа концерте побывали около 3,5 млн человек, из которых 500 тысяч собрались непосредственно перед зданием, а остальные наблюдали за происходящим с соседних улиц. Поскольку это было первым настолько масштабным событием в истории города, а число зрителей, судя по всему, в разы превзошло даже самые смелые ожидания, городская инфраструктура оказалась не готова к такому наплыву пассажиров. В итоге многие зрители смогли воспользоваться общественным или вообще хоть каким-нибудь транспортом лишь спустя несколько часов после окончания концерта, добравшись домой уже ближе к утру.nГлавной темой юбилея в этом году станут важнейшие достижения москвичей — в науке, искусстве и спорте, которые определили особое место города в мировой истории. Мероприятия будут посвящены выдающимся ученым, инженерам, архитекторам, режиссерам, актерам, художникам, музыкантам и спортсменам Москвы.nГлавной площадкой в эти два дня станет Тверская улица, которую поделят на шесть тематических площадок: «Москва покоряет», «Москва строит», «Москва изобретает», «Москва открывает», «Москва созидает» и «Москва ставит рекорды». Их украсят более 200 оригинальных арт-объектов. К примеру, на Тверской можно будет увидеть модель орбитальной космической станции «Салют-7» (практически в натуральную величину), арт-объекты в виде всех семи сталинских высоток Москвы, зданий Рижского и Ярославского вокзалов, модели Шуховской башни и скульптуры «Рабочий и колхозница».nА по скалодрому в виде башен «Москва-Сити» высотой порядка 10 метров можно будет карабкаться!nЧто касается знаковых объектов, открытых в честь 870-летия города, то главным из них, безусловно, станет парк «Зарядье» в самом центре Москвы.',\n",
              " 'В субботу, 5 сентября, Москве исполняется 868 лет. На День города, по прогнозам московской мэрии, придет около 10 млн человек. «Газета.Ru» ведет онлайн-репортаж с основных площадок праздника.nnИииии дождались: на сцену вышли Aerosmith. Москва тоже рада вас видеть!n@Aerosmithn@IamStevenTnin Red Square ..npic.twitter.com/0L06sAU1G5nnНа Красной площади тем временем идет церемония открытия фестиваля «Спасская башня» — того самого, который утром героически прошел по улицам Москвы. Зрелище, надо сказать, крайне эффектное.n#спасскаябашня#спасскаябашня2015#деньгорода2015#деньгорода#москва868#красснаяплощадь#гум#spasskayatower#spasskayatower2015#internationalmilitarytattoo С Днем Рождение Москва!!! ✨✨✨✨✨nA photo posted by Milena Bond (@bondmilena) onnSep 5, 2015 at 10:33am PDTnnНа ВДНХ между тем проходит свой День города — Город детей. Сегодня и завтра в этом городе можно найти гоночные трассы, «Парк изобретений» и «Инкубатор идей», несколько фотозон, различные спектакли, музыкальные объекты, побродить в огромном лабиринте в виде мозга и встретиться с сумасшедшими учеными.n#ВДНХ #ГородДетей #ГородПридумщиков #ДеньГородаnA photo posted by ВДНХ (@vdnh_russia) onnSep 5, 2015 at 8:15am PDTnnСамые любознательные москвичи посвящают День города тому, чтобы погулять по столице в компании экскурсоводов. За два дня в Москве пройдет множество бесплатных экскурсий по 200 маршрутам. Сегодня гиды будут работать аж до 22.00, а завтра — с 13.00 до 20.00. Приходите на одну из восьми точек встречи в центре — и узнаете о родном городе много нового!nТем временем по всему городу проходят сотни экскурсий различных тематик.nn#деньгородаn#ялюблюмосквуnpic.twitter.com/4r1B7ElPH1nnОй. И это только шесть вечера. Интересно, сможет ли концерт на Лубянской площади (и, видимо, на всех окрестных улицах в радиусе 10 км) по численности гостей побить рекорд, поставленный на 850-летие Москвы? Тогда, напомним, выступал французский композитор и музыкант Жан-Мишель Жарр. Послушать его перед МГУ на Воробьевых горах собралось, по официальным данным мэрии, около 3,5 млн человек.n#деньгорода в разгаре. #лубянка #лубянскаяплощадь #Москва #москваялюблютебя #дг #868 #москва868 #ялюблюмоскву #толпа #люди #город #праздник #деньрождения #868лет #Moscow #happybirthday #iloveyoumoscow #square #people #followmenA photo posted by Анна  Клевер (@anna.klever) onnSep 5, 2015 at 8:12am PDTnnНа Лубянской площади идет концерт, который должен завершиться выступлением Aerosmith. Пока выступили Григорий Лепс (спевший актуальную песню «Я уеду жить в Лондон») и Полина Гагарина, по расписанию подбирается к финальным песням Дима Билан. В 18.20 на сцену должен выйти автор хита «Love me again» (и остальных песен, неуловимо похожих одна на другую) Джон Ньюмен. Народу сами видите сколько.nПраздничные стояния #москва868nA photo posted by Kasya Ka (@karavayw) onnSep 5, 2015 at 6:37am PDTnnОчень красивое шествие было на Неглинной улице в рамках фестиваля «Яркие люди». Сегодня он посвящен Году литературы в России.n#яркиелюдиnA photo posted by филиппова_иришка (@_edinorogek) onnSep 5, 2015 at 4:49am PDTnnЕсли оказаться сейчас у Парка Горького, то может показаться, что там что-то горит — настолько много там пожарных машин. На самом деле спасатели участвуют в празднике: устраивают «вальс пожарных лестниц», дефиле в исторической форме, а под Крымским мостом — парад спасательных катеров и пожарных кораблей, «шоу аквабайков», а также водяной салют из лафетных стволов. Надеемся, кто-то из пожарных все же остался дежурить на случай ЧП.nВальс пожарных лестниц в Парке Горького. #якиманка #наякиманке #вальспожарных #москва #деньгорода #паркгорького #москва868nA photo posted by На Якиманке (@nayakimanke) onnSep 5, 2015 at 6:28am PDTnnА на Красной площади сегодня было так.n#москватриумфальная #лучшийгородземли #деньгорода #москва868nA photo posted by *stan* (@stanley_sp) onnSep 5, 2015 at 3:09am PDTnnКстати, дождь приутих, кое-где — так и вообще закончился, а часа через полтора небо прояснится, мирные жители окончательно проснутся и выберутся на улицы. Так что сейчас можно успеть походить по разным площадкам, пока там мало народу!nnЕсли вы рисковый человек и намерены поехать в Москву на машине, стоит прочитать, какие улицы перекрывают в честь праздника. Спойлер: проще пешком.nnА тем временем Стивен Тайлер — лидер сверхпопулярной группы Aerosmith, которая выступит сегодня вечером на Лубянской площади — вчера вечером спел хит «I Don`t Want to Miss a Thing» с уличным музыкантом. На видео, которое моментально разлетелось по соцсетям, мистер Тайлер не только активно подпевает молодому человеку, но и фотографируется с ним и даже заботливо одевает на того шляпу, в которую юное дарование, вероятно, рассчитывало собрать гонорар за выступление. Может, после такого дуэта столичные власти задумаются о том, что уличные музыканты — не такое уж и зло, и перестанут задерживать и привлекать к административной ответственности «тротуарных трубадуров»?nnКартина «Безудержное веселье».nnВход на Манежную площадь перекрыт, с боем туда пустили китайскую экскурсию, остальные пока стоят, передает корреспондент «Газеты.Ru». От метро «Театральная» до Большого театра пройти нельзя: все перекрыто. От Никольской улицы можно дойти до Лубянки и упереться в рамки: туда также не пускают. Красная площадь закрыта на вход, ГУМ, как ни странно, открыт.nnВместе с участниками «Спасской башни» и их зрителями ждем, когда же разгонят тучи, как и было обещано. В Минобороны говорят, что хорошую погоду нам обеспечит космическая авиация. А именно: 10 самолетов Воздушно-космических сил Ан-12 и Ан-26. Специалисты распылят с них специальные порошкообразные и хладообразующие реагенты. Как показывает практика, обычно после такого все накопившиеся дожди проливаются либо вечером того же дня, либо назавтра.nnМы начинаем нашу онлайн-трансляцию со Дня города. Погода, мягко говоря, не располагает к тому, чтобы выйти на улицу, причем даже тех, кому за это наверняка заплачено. Шествие духовых оркестров «Спасская башня» пришлось начать на час позже из-за сильного дождя. Участники — а их около тысячи человек — справедливо опасались, что инструменты зальет водой, и не решались пройти от Пушкинской площади до Манежной. Но в итоге музыканты переоделись в дождевики, решили, что праздник важнее, и выступают перед немногочисленными, но благодарными зрителями.nНа Тверской улице прошло шествие участников фестиваля «Спасская Башня». Это торжественное и красочное мероприятие дало старт празднованию Дня города. #деньгорода #ялюблюмосквуnA photo posted by @kultura_mos onnSep 5, 2015 at 1:36am PDT',\n",
              " \"В эти выходные Москва отметит свой 870-ый день рождения и подготовила по этому поводу примерно столько же подарков горожанам. Чемпионат по киберфутболу, самокатные экскурсии, «полярные» селфи, изобретенный в столице раф-кофе, грандиозный салют на час раньше обычного и многое другое — «Газета.Ru» подскажет, куда податься и что делать 9 и 10 сентября, чтобы застать все самое интересное.nВ этом году День города решено было разбить на несколько тематических блоков, посвященных достижениям москвичей: «Москва созидает», «Москва ставит рекорды», «Москва изобретает» и т. п. Мы же решили интерпретировать их по-своему и подсказать горожанам занятия по вкусу.nМногие столичные жители воспринимают День города именно через музыкальную призму. Те, кто постарше, помнят концерт Жана-Мишеля Жарра на Воробьевых горах (и особенно давку после него), молодежь наверняка искала удачный ракурс, чтобы увидеть хотя бы верх шевелюры Стивена Тайлера на концерте Aerosmith два года назад. К 870-летию города иностранных артистов такого масштаба не ожидается, но и без них программа выглядит приятной. Хэдлайнерами на главной площадке на пересечении Тверской улицы и Охотного ряда 9 сентября станет группа «Браво», 10-го же на сцену выйдет Александр Ф. Скляр и группа «Ва-Банкъ», а до них отыграют «Несчастный случай».nНа Поклонной горе выступят артисты, скажем так, крупного калибра: Иосиф Кобзон, Денис Майданов и Дина Гарипова, Анита Цой, Катя Лель, Игорь Саруханов, Юта, а 10 сентября там ожидают Диану Гурцкую, Валерия Меладзе, группу «На-На» и Митю Фомина. Звездной, что, в общем, логично, станет и Аллея космонавтов, где 9 сентября споют Влад Соколовский и Сати Казанова, а на следующий день — Леонид Агутин.nДля тех, кто предпочитает современные ритмы, советуем отправиться в парк Горького, где выступят Ума Турман, Pompeya, Guru Groove Foundation и IOWA.nВ промежутках можно покрутить педали внутри геодезического купола с макетом города и заставить, наконец-то, двигаться ту самую пробку на Садовом — правда, не взаправду, а в миниатюре.nНа площадке у Столешникова переулка планируется несколько концертов на терменвоксе от Петра Термена, правнука изобретателя этого инструмента, а под вечер субботы туда надо бежать всем фанатам Mujuice.nПочитателям классической музыки лучше отправиться или к Храму Христа Спасителя, где пройдут выступления симфонических оркестров плюс акапелльно-битбоксерский коллектив «Кватро», или в «Царицыно», или в «Сокольники», где все выходные будут петь оперу.nЦентральной площадкой не только для «книжных червей», но и «книжных бабочек» станет Триумфальная площадь, где все два дня продлится акция «Рифмуем с Москвой» (обещают интерактивное литературно-музыкально-театральное действо). В Доме-музее Марины Цветаевой 10 сентября в 21:00 пройдет премьера программы «Легкое имя: Пушкин». Ее создатель Алиса Гребенщикова словами Марины Цветаевой и Александра Блока расскажет о влиянии «золотого» века русской поэзии на век Серебряный.nНеподалеку от музея Цветаевой, на сцене у Театра имени Евгения Вахтангова, пройдет межмузейный фестиваль, который будет интересен тем, кто жаждет узнать историю и тайны знаменитого Арбата, а также прилегающих к нему переулков. Знаменитые историки и литературоведы проведут лекции и расскажут о жизни московской аристократии — знаменитых писателей и поэтов. А в библиотеке им. Светлова около ста участников прочтут отрывки из произведений поэтов XX века, включая Маяковского, Хлебникова, Хармса и Пастернака.nКстати, и в субботу, и в воскресенье вход во все музеи, подведомственные городскому департаменту культуры, будет бесплатным.nИдеальный вариант для бережливых и нетерпеливых (ведь до третьего воскресенья месяца, когда вход также будет бесплатным, останется всего неделя).nСоветуем обратить внимание, например, на Музей пряника, Музей 60-х годов, настоящий бункер сталинских времен, расположенный на глубине 65 метров, Музей моды (там любопытная экспозиция о Венецианском карнавале), а также на Дарвиновский музей, где выставлены трофеи Николая II — и нет, это не пани Кшесинская.nТем, кто после лекций еще чувствует в себе силы, советуем отправиться на пешеходные экскурсии — их за выходные проведут более двухсот. Москвичей и гостей столицы ждут бесплатные прогулки по центральным улицам и старинным усадьбам, велосипедные и самокатные экскурсии, а также поездки на МЦК и на теплоходе по Москве-реке. Участникам экскурсий предложат взглянуть на Москву глазами Александра Пушкина или Виктора Васнецова.nНе проходите мимо «звездных экскурсий», которые проведут Василий Уткин, Тутта Ларсен, Александр Архангельский и Михаил Козырев. Козырев, например, расскажет о местах, где музыканты «Машины времени» сочинили свой легендарный «Поворот», где прошли премьеры песен «Эльдорадо» и «Любовь идет по проводам», где впервые в столице выступили группы Prodigy и Red Hot Chili Peppers. Также знаменитости вместе с горожанами отправятся на прогулки по музею современного искусства «Гараж» и Музею хоккея.nТакже крайне трогательная акция «Соседи» пройдет на Чистых прудах и соседних улицах. Это 100 историй москвичей, которые жили в том районе в разные столетия. На фасадах домов на улицах Мясницкой, Маросейке, Покровке и в близлежащих переулках будут размещены экспозиционные стенды с воспоминаниями и фотографиями местных жителейnЦветной бульвар уже в четвертый раз проведет большой маркет, где молодежные бренды представят свою одежду и аксессуары. Денежные средства, собранные с аренды места на маркете, будут переданы благотворительным фондам.nВ парке «Музеон» на День города соберутся молодые художники и именитые дизайнеры, которые превратят пространство парка в интерактивную лабораторию. Вместе со стилистами гости придумают и создадут свой уникальный образ. Трижды в день пройдут показы от Дома Моды Славы Зайцева, Андрея Бартенева, Венеры Казаровой и других. Там же в перерывах между показами пройдет шоу «Fashion + Poetry»: молодые актеры в дизайнерских костюмах прочтут стихотворения современных поэтов и расскажут о новых трендах сезона.nЕсли театр начинается с вешалки, то 870-летний юбилей Москвы начинается с театра. Парк Горького займут выпускники ГИТИСа и участники коллектива «Liquid Theatre», которые покажут десятичасовое театрально-музыкальное представление «Цветные сны». В программе — яркое шоу с участием акробатов, воздушных гимнастов, танцоров и оперных артистов. В главном парке Москвы также советуем взглянуть на перфоманс французской театральной компании «Remue Menage», которая поставит спектакль «Медвежья пасть» с участием артистов на ходулях в костюмах медведей.nНасыщенная театральная программа также ждет гостей Екатерининского парка. Там в субботу выступит театр «Иллюзии», «Экспромт» и «Тень». В воскресенье удивлять москвичей будут участники Нового драматического театра, Московского театра детской книги «Волшебная лампа» и центра Славы Полунина.nВ саду «Эрмитаж» пройдет целый фестиваль, посвященный театральному искусству. Он продлится 12 часов,: во время марафона свои спектакли представят лучшие московские театры: Музыкальный театр имени Станиславского и Немировича-Данченко, Театр на Таганке и Театр кукол им. С.В. Образцова. Горожанам удастся взглянуть на фрагменты спектакля театра им. Пушкина «Рождество О. Генри», отмеченного премией «Золотая маска».nКак бы сказали Бременские музыканты, вам крупно повезло: билеты на представление достать крайне сложно уже который год.nЗавершится театральный марафон рок-н-драмой «Вий», созданной по мотивам одноименной повести Гоголя и текстам песен рок-барда Вени Д'ркина, — громкая премьера Театра на Таганке.nЛюбителям киноиндустрии советуем запастись попкорном и отправиться в сад им. Баумана, где в выходные пройдут кинопоказы фильмов 60-70-х годов. В субботу художественные ленты будут крутить и в Летнем кинотеатре парка Фили. Посетителей Воронцовского парка ждет авторский проект «Немое кино со звуком». Инструменталист Владимир Тирон познакомит гостей с видением звуков немого кино. После гостей пригласят на просмотр авторского короткометражного кино «Тыква» и «Поперхнулся» молодого московского режиссера Юлии Сапоновой, которое покажет связь поколений в кинематографе.nОт обилия впечатлений наверняка разыграется аппетит. Хорошая новость — брать с собой курицу в фольге, картошку в мундире и другие атрибуты походной кухни вовсе не обязательно. Лучше отправьтесь на страноведческий фестиваль «Весь мир на Красной Пресне», где будут угощать грузинскими хачапури, бакинским пловом и другими блюдами, перечисление которых вызывает неудержимое слюноотделение.n9 и 10 сентября Москва отпразднует свой 870-й юбилей. В День города на Тверской улице в рамках проекта «Время московской кухни» представят блюда и...n→nНа Тверской улице все выходные популярные столичные рестораны будут кормить гостей блюдами, связанными с разными эпохами Москвы. Двигаясь по площадкам праздника — от Манежной к Пушкинской площади — можно отследить всю историю развития московской кухни, от старорусских блюд, блюд петровских времен до современной нам кухни XXI века.nИтак, в меню: старомосковская буженина, расстегаи, калачи, холодец из яблок, форшмак с сельдью и говядиной, пирожки «карасики», беляши-перемячи, торт «Птичье молоко» и раф-кофе, который оказывается, придумали в столице России еще в 1996 году (шах и мат, прозападные завсегдатаи кофеен!).nСпециально для праздника также было придумано мороженое из кваса, но это, пожалуй, для любителей экспериментировать.nВ парке искусств «Музеон» пройдет фестиваль Венгрии, Польши, Словакии и Чехии. Там будут угощать венгерским паприкашем, польским бигосом, словацкими колбасками и чешскими брамбораками, а все лишние калории потом можно быстро потратить, отплясывая под веселую национальную музыку.nТем, для кого праздник — не повод отказываться от здорового образа жизни, на Дне города будет раздолье. Например, в Таганском парке покажут акробатический номер «Пирамида из людей», выступления на ринге для единоборств, проведут мастер-классы по футбольному и баскетбольному фристайлу, турнир по волейболу, а еще выдадут инвентарь для игры в бадминтон, фрисби, петанк и шахматы. Покорить вершину можно будет на специально созданной альпинистской стенке. 10 сентября любой желающий сможет принять участие в мастер-классах по зумбе, капоэйре или брейк-дансу.nВ Строгинской пойме состоятся показательные выступления каскадеров и спортсменов на воде. В программе — флайборд, аквабайк, вейкборд. Тем, кому нравится вейкборд, но совсем не нравится идея ехать на северо-запад Москвы, стоит отправиться на площадь Революции, где построили всепогодный вейк-парк с двумя бассейнами и площадку для флоубординга. Вообще там до 8 октября можно покататься и простым смертным, успевшим зарегистрироваться, но 9 и 10 сентября там пройдут профессиональные соревнования и зрелищные выступления.nНа Тверской улице гости увидят выступление легендарной московской брейкданс-команды Predatorz Crew. Танцоры будут крутиться на голове и даже «станцуют симфонию». Воодушевленные перфомансом москвичи смогут сами подняться на сцену и освоить азы брейкданса под руководством опытных тренеров.nНа пересечении Тверской и Моховой обещают гимнастическое шоу на гироскутерах (хоть чемпионата по вращению спиннеров не проводится, хотя и это, пожалуй, дело времени).nРядом с Камергерским переулком расположится паркур-парк, а на Тверском бульваре можно попытать силы в играх будущего, например, в «космоболе», представляющим собой синтез бильярда и футбола. Фанатам FIFA наверняка понравится площадка киберфутбола на Манежной площади, где в субботу пройдет чемпионат по этой игре.nnnЮбилей города — праздник не только для взрослых, но и для детей. Для них, в частности, подготовлена специальная мультипликационная площадка на Рождественке. На мастер-классах дети смогут примерить роль оператора мультфильма, сценариста, художника, а также узнать, как создаются анимационные картины. В саду «Эрмитаж» детям покажут несколько представлений, в том числе спектакль «Вредные советы», а также мюзиклы для всей семьи «Летучий корабль» и «Дурацкие дети. Леля и Минька». Там же ребята смогут попробовать себя в роли актеров, создать мультфильм, озвучить его или взять на себя обязанности телевизионного диктора.nНа ВДНХ детей превратят в инженеров, строителей, проектировщиков и дизайнеров. Площадка будет разделена на шесть зон, в каждой из которых дети узнают много нового об архитектуре разных стран, попробуют построить собственную башню и мост, а параллельно посмотрят познавательные спектакли и мультфильмы.nПерефразируя популярное выражение, «не сфотографировал — на празднике не побывал». В честь Дня города командой профессиональных дизайнеров и конструкторов были изготовлены более 200 арт-объектов для того, чтобы в этот день москвичи могли сделать самые яркие и динамичные кадры. Так, от Козицкого до Малого Гнездниковского переулка расположатся макеты космических кораблей и марсоходов. На участке от Брюсова до Камергерского переулка поставят 65 различных арт-объектов: балетные классы, выставку объемных фигур по мотивам картин Малевича и специальную инсталляцию, посвященную культовому «Ежику в тумане».nСделать яркие селфи предлагаем в саду им. Баумана в фотозоне с интерьером квартиры 60-х годов. На Арбате можно будет сделать «авиационные» фото: в тантамаресках в виде крыльев самолета. А на Новом Арбате можно переодеться в полярников и сделать снимок в специально оборудованной фотозоне с панорамным баннером и искусственными ледяными торосами. Можно потом пугать иностранных друзей «типичными московскими сентябрьскими пейзажами».nНе фото, а уже видео-свидетельство потребуется для главного события Дня города — праздничного салюта. Он, в отличие от прошлых лет, прогремит не в 22.00, а в 21.00.nВ этом году главной площадкой проведения фейерверков в городе станет Раушская набережная. В небо запустят «пионы», «хризантемы», «змейки», «сердечки» и другие красочные рисунки. Всего над городом прозвучит 13 260 залпов с 13 площадок. На трех из них — Раушской набережной, Поклонной горе и в Братеевском каскадном парке — в небе можно будет наблюдать композицию с числом 870. Салют продлится 15 минут. Думается, Москва, фигурально выражаясь, успеет за это время загадать желание и задуть свечи.\",\n",
              " 'Масленичная неделя официально начинается сегодня, 20 февраля. Разбудить медведя, захватить крепость, поиграть в боулинг блинами — это лишь начало списка развлечений, запланированных на ближайшие дни в Москве. «Газета.Ru» рассказывает, где гулянья красочнее, а блины вкуснее.nМасленицу — неделю, предшествующую Великому посту, — на Руси всегда праздновали с размахом. Иностранец, побывавший в Москве при Иване Грозном, писал: «Масленица напоминает мне итальянский карнавал, который в то же время и таким же образом отправляется…nКарнавал тем только отличается от Масленицы, что в Италии день и ночь в это время ходит дозором конная и пешая городская стража и не позволяет излишнего буйства; а в Москве самые стражи yпиваются вином и вместе с народом своевольствуют».nДаже известный московский купец Василий Носов, обычно живший аскетично, на Масленицу закатывал многочасовые обеды в своем особняке. По воспоминаниям его внука Юрия Бахрушина, «блины подавались на всякие вкусы: и с ветчиной, и со снетками, и с яйцами… изготовлялось носовское фирменное блюдо — маринованные рыбьи хрящи… рядом с водкой стояла обязательная старка и красное вино принятой дедом марки… самовары были красной меди, именные, и должны были сменяться молниеносно».nМосква, конечно, не Верона, но и в российской столице кипели страсти не хуже итальянских. «Газета.Ru» сделала подборку самых трогательных...n→nЕще одно чисто «масленичное» место в Москве — Блинниковая слобода, располагавшаяся в начале Маросейки. Слободу населяли блинники — мастера, изготовлявшие блины. Они пеклись, как правило, в двух случаях — во время Масленицы и поминок, являясь непременным их атрибутом. Первый масленичный блин отдавался нищим на помин душ покойных.nТрадиционный русский блин, как ни удивительно, вовсе не пшеничный. Обычно на Руси пекли блины из гречневой, ржаной или овсяной муки.nПшеничные блины называли «немецкими», поскольку пшеница была менее доступна и приживалась не везде.nЧто касается начинок, то многими любимые блины с мясом раньше не ели, ведь Масленица, можно считать, начало поста.nВ этом году в столице, по нашим подсчетам, будет представлено около 120 видов блинов, и, чтобы перепробовать их все до 26 февраля, придется постараться. Если традиционными русскими блинами вас уже не удивить, то советуем съесть блины с крабом, зефирками-маршмеллоу, а также вегетарианские и баварские. Такое необычное меню представлено на ВДНХ.nВ Новопушкинский сквер идите за разноцветными 3D-блинами. Хотите понять, чем различаются блины из разных стран, — зайдите на Манежную площадь, где будут продавать азиатские, норвежские, французские и абхазские блины. На площадь Революции стоит заглянуть за «масленичными роллами», а на Тверскую площадь — за блин-роллами с бамбуковой начинкой.n25 и 26 февраля на территории «Музеона» планируется установление рекорда Гиннесса по самому масштабному угощению блинами.nОрганизаторы планируют испечь более 10 тыс. блинчиков и бесплатно угостить всех желающих. Надеемся, лопаты задействованы не будут.nВпрочем, поесть блинов в Масленицу — идея не новая. А вот испечь их самому гораздо интереснее. На фестивальных площадках в городе заработают стразу три кулинарные школы: на площади Революции, в Новопушкинском сквере и на Тверской площади. Причем на площади Революции блинами еще можно будет поиграть в боулинг, пострелять из рогатки и проверить свою ловкость в «блинном» тире. Там же можно поиграть в прятки в ледяном дворце «Крепость зимы» и взять его штурмом в последний день гуляний. А на Тверском бульваре ежедневно с 12.00 до 20.00 можно поиграть в «колобок-бол» — подвижную командную игру по мотивам брумбола. Он очень похож на хоккей, но вместо клюшек в нем используют метлы, а шайбу заменяет мяч («колобок»).nДля любителей менее рискованных развлечений организаторы устроят мастер-класс, на котором расскажут москвичам о таком виде графики, как лубок. С помощь реконструированного средневекового печатного станка и аутентичных инструментов можно самим создать древнерусские картинки.nТем, кому надоедают традиционные масленичные гулянья, советуем заглянуть в Таганский парк и записаться, например, на занятия по песочной анимации или сделать свои собственные очки для рассматривания летнего солнца.nВход в храм Василия Блаженного (Покровский собор) подорожает с 350 до 500 руб. с 1 апреля. Об этом заявил директор Государственного исторического...n→n«Разбудить медведя» предлагает площадка на Тверской площади каждый день с 11.00 до 21.00. Это традиционная, хотя и не широко известная игра, по которой «медведь» и его «страж» должны поймать людей, пытающихся дотронуться до «животного», но при этом не выпустить из рук веревку и не сойти со своего места.nПриобщиться к искусству приходите на Новый Арбат. На время гуляний улица превратится в центр современного искусства. Книжная ярмарка «Бук-маркет» будет посвящена различным произведениям: от классики русского авангарда начала ХХ века (Малевич, Кандинский, Лентулов, Степанова) до творений ведущих дизайнеров и художников наших дней. Свои двери для гостей откроет школа карнавального костюма: во взрослой библиотеке «Бук-маркета» ежедневно с 11.00 до 21.00 будут проходить мастер-классы по созданию аксессуаров, вышивке и декору. Каждый вечер посетителей фестиваля будет встречать театрализованное шествие уличных артистов. Кстати, многие представления были созданы специально для фестиваля. Среди них — интерактивная театральная программа «12 месяцев, или Встреча весны». Спектакль будут показывать ежедневно на площади Революции.nДля любителей культурного отдыха фестиваль приготовил более 30 тематических экскурсий. Попасть на большинство из них можно будет бесплатно, но не забудьте заранееnзаписатьсяn. Подробнее узнать про масленичные потехи позапрошлого века можно, прогулявшись по Чистым прудам, Тверской, Никольской, Мясницкой улицам, Милютинскому, Камергерскому и Столешникову переулкам. Также гиды расскажут, как гуляла на масленичную неделю молодежь на Воробьевых горах: на льду Москвы-реки возводили снежный город с крепостными стенами, башнями и воротами, а в центре прорубали лед.',\n",
              " \"Новый год под пальмами, поздравление с орбиты, концертная Тверская, квартирник у Высоцкого и переехавший в столицу Муми-дол — «Газета.Ru» рассказывает, куда податься в Москве в праздничную ночь.nВ этом году Красная площадь снова закроется для простых горожан в связи со съемками «Голубого огонька», так что главной площадкой для проводов старого и встречи нового года объявлена Тверская. Улица (от Театральной до Триумфальной площади) проработает в пешеходном режиме до 3 января. Из-за перекрытий автомобилистам настоятельно советуют пересесть на общественный транспорт, а в канун 2018 года это будет сделать еще проще, поскольку метро и МЦК будут работать круглосуточно.nТверскую поделят на несколько площадок, посвященных известным спектаклям, операм и балетам. Гостям обещают как классические постановки вроде «Щелкунчика», так и современные иммерсивные спектакли, выступления уличных артистов и мастер-классы на свежем воздухе. Также на площадке, особенно если прийти пораньше, можно спокойно, не толкаясь, поиграть в мини-гольф, боулинг или самый большой настольный футбол, спуститься по воздуху на стальном канате или научиться держать равновесие на балансборде.nМузыкальная часть праздника подобрана, скорее, для молодежной аудитории, что для кого-то может показаться минусом. На разных сценахnвыступятnManizha, Варвара Визбор, группы Optimystica Orchestra, Artemiev, СБПЧ, Therr Maitz, Oligarkh, Radio Kamerger (надеемся, в этот раз виолончель ни у кого отбирать не будут), «Иван Купала» и Guru Groove Foundation.nЗакончить выступление планируется в три часа ночи. Кстати, в последующие два дня на площадках тоже ожидаются интересные музыканты, от Mgzavrebi до Billy's Band, так что имеет смысл туда наведаться не только 31-го вечером.nВ еще одном традиционном месте притяжения молодежи — в парке Горького — 2018 год будут отмечать прямо на катке. Вход, в отличие от праздника на Тверской, платный – от 500 рублей. Гостей ждет аудиовизуальное шоу от пионеров новой русской электроники D-Pulse, парад СтереоТипов — веселых персонажей, одетых в костюмы с рисунком в виде одной из оптических иллюзий, диджей-марафон, фотобудка, где можно сделать трехмерные снимки, снежный тоннель (очевидно, это будет едва ли не единственное в городе место со снегом, пусть и иллюзорным) и электронная гадалка по ладони.nНа катке предложат провести время и гостям ВДНХ. Темой новогодней вечеринки станет, что логично, космос, а гвоздем программы — поздравление космонавтов, находящихся сейчас на МКС. На оформленной в виде ракеты сцене для гостей выступят музыканты: La Caravane Passe, OSOG, CJ.Plus, по самому катку будут регулярно проходить костюмированные шествия, а не по льду можно прокатиться на рождественском поезде. Вход платный, один билет с прокатом коньков и ячейкой для хранения вещей стоит 1650 рублей. Кстати, совсем рядом, на аллее Космонавтов пройдет бесплатный семейный фестиваль, темой которого станут «Старые сказки на новый лад». Главные герои праздника — персонажи сказок народов мира, которые очутились в Москве XXI века.nВ парке «Сокольники» тоже можно прокатиться на одном из трех катков, причем, в отличие от парка Горького и ВДНХ, бесплатно с 22.00 до 3.00. Но ограничиваться катком не стоит: в «Сокольниках» пройдет праздник, посвященный популярным мюзиклам с демонстрацией знаменитых танцевальных номеров.nКроме того, на сцене выступят Александр Буйнов, Юлианна Караулова, группа «Пицца» и DJ Groove (и даже не вздумайте предлагать ему «поставить мой компакт-диск»).nКстати, мюзиклам будет посвящен и праздник в Перовском парке. Там можно будет не только лично посмотреть на коронные танцевальные номера, но и лично почувствовать себя артистом, сделав снимок в специально оформленных фотозонах.nНа Поклонную гору стоит отправиться всем, кто с нетерпением ждет предстоящий Чемпионат мира по футболу. Там сделали ледяные копии символов 32 стран-участниц мундиаля — надеемся, от аномально теплой погоды они не растают. Также обещают футбольный фристайл, бразильский карнавал, бармен-шоу панамских коктейлей, надо полагать, исключительно безалкогольных, в общем, зовут в гости все флаги мира. Посетителей поздравят Олег Газманов, Руслан Алехно, Марина Девятова и Денис Майданов.nВ Таганском парке воссоздадут квартирник у Владимира Высоцкого, которому в 2018 году исполнилось бы 80 лет. В честь его юбилея молодые артисты покажут отрывки из «Гамлета» и «Живого», где он играл, а также исполнят его песни. Помимо прочего, гостей праздника научат играть на гитаре и дадут им уроки актерского мастерства. В Воронцовском парке новогодняя ночь тоже пройдет в театральном стиле, только там можно посмотреть эффектное выступление уличного театра Pololo, сказочного театра «Воображариум», а также огненное шоу. Кстати, о сказках — на Новом Арбате временно откроется филиал Муми-дола. Симпатичные тролли готовы создать образы для всех гостей косплей-маскарада в новогоднюю ночь.nДаже если настроение под конец года примерно такое же мрачное, как Морра, уверены, муми-тролли и их друзья смогут вас развеселить.nПодзарядиться витаминами и оранжевым настроением советуем в парке «Красная Пресня», где пройдет мандариновая вечеринка. Снеговики (конечно, тоже мандариновые) будут раздавать эти цитрусовые и играть на духовых инструментах. В Гончаровском парке снеговики сменят амплуа и будут вместе со Снегурочкой учить гостей танцевать, пока Дед Мороз будет заменять диджея.nЕсли уехать на праздники на юг не удалось, то юг едет к нам. Убедиться в этом можно будет в парке «Царицыно», где праздник проведут в том числе и в оранжерее дворца. На случай, если бой курантов под пальмами все же вызывает диссонанс, стоит выбрать «северный» досуг и прокатиться на собачьих или оленьих упряжках, управляют которыми погонщики в аутентичных костюмах, либо прокатиться по 150-метровой тюбинговой трассе. А еще этот вариант подходит для тех, кто хотел послушать выступления Джигана, Влада Соколовского и Кристину Орбакайте, но не хотел тратиться на билет: вся программа в «Царицыно» бесплатная.nКонечно, нельзя представить новогоднюю ночь без салюта. Он прогремит в два этапа: традиционный в полночь в трех самых крупных точках (Большой Москворецкий моста, Поклонная гора и ВДНХ) и в час ночи — практически во всех парках города. Ну а если опоздали на оба тура, советуем добраться до Тверской, где каждый час будут пускать салюты из конфетти, фонтаны холодного огня и разноцветный дым.\"]"
            ]
          },
          "metadata": {},
          "execution_count": 58
        }
      ]
    },
    {
      "cell_type": "code",
      "source": [
        "get_response(TEXT, ft_index, modelFT, index_map)"
      ],
      "metadata": {
        "colab": {
          "base_uri": "https://localhost:8080/"
        },
        "id": "G5dxPsKQjELH",
        "outputId": "f904ed06-3ba4-4b4b-bfb1-c5b44645fb06"
      },
      "execution_count": 59,
      "outputs": [
        {
          "output_type": "execute_result",
          "data": {
            "text/plain": [
              "['В эти выходные Москва отмечает свое 870-летие. Юбилей Москвы празднуют всего в четвертый раз за всю историю города. Впервые это произошло еще 170 лет назад, в те времена, когда столицей России был Санкт-Петербург. «Газета.Ru» рассказывает, как чествовали Москву в разные века и как складывались традиции праздника.nВпервые юбилей Москвы отмечали в 1847 году. Идею отпраздновать 700-летие города продвигали интеллектуалы-славянофилы, которые были заодно и «москвофилами». В те времена еще спорили о том, в каком именно году основали Москву, и, тем более, не было конкретного дня, на который можно было бы назначить торжества. Историки предлагали разные даты и в итоге остановились на весне 1847 года.nПрограмма подготовки к юбилею включала мероприятия, которые вполне могли бы сопровождать День города и в наши дни: художникам предложили написать картины с видами Москвы, историкам — создать описания ее церквей, монастырей, Московского университета, почтамта и других учреждений, а также — быта, нравов и обычаев местных жителей. В городе собирались установить «инфостенды» — таблички с пояснением, чем примечательны те или иные места.nnПредписание московского военного генерал-губернатора А.Г. Щербатова московскому городскому голове С.Л. Лепешкину об организации празднования 700-летия Москвы, 25 декабря 1846 годаnnЭнтузиасты юбилея задумали трехдневные гуляния с иллюминацией. В разные дни должны были пройти церковные службы, «ученое торжество» в Московском университете, балы, народные гуляния на площадях с раздачей угощений. Но первопроходцы часто сталкиваются с трудностями, и, к сожалению, этим замечательным планам не суждено было сбыться.nСтолицей России тогда был Санкт-Петербург, где к идее масштабного празднования юбилея Москвы отнеслись настороженно. Но в итоге 31 декабря 1846 года вышел императорский указ о том, что провести торжество нужно 1 января – то есть уже на следующий день!nКонечно же, за новогоднюю ночь подготовиться к празднику было невозможно. Знаковое событие все-таки состоялось, но в «темпе вальса»: прошел праздничный молебен, а москвичи провели вечер за застольями и разговорами о любимом городе. Что касается иллюминации, то на стенах Кремля со стороны Красной площади, дома генерала-губернатора (ныне – здание мэрии) и других были укреплены сальные плошки, образовывавшие узоры или строки молитвы. Впрочем, далеко не все надписи можно было прочесть, так как светильники быстро гасли на ветру.nУдивительно, но в 1897 году москвичи юбилей Москвы пропустили. Хотя планы на эту дату были масштабные. Так,nисторик Николай Бочаров выпустил несколько статей, где предлагал «три четверти тысячелетия» наконец отметить по-настоящемуn(празднование 700-летия города было, по его мнению, не удачным). «Чувства любви и уважения к родной старине, рост национального самосознания… значительно подвинулись вперёд за последние годы, — так что празднование 750-летия Москвы было бы теперь как нельзя более кстати», — писал Бочаров.nВозможно, на решение не отмечать 750-летие города повлияли трагические события на коронации императора Николая II годом ранее, во время которой на Ходынском поле случилась давка, унесшая жизни почти 1,4 тыс. человек. Скорее всего, память о столь огромных жертвах еще была жива в памяти горожан, и те попросту боялись повторения подобных случаев. Повлияла на город и внутренняя политика страны, в результате которой на улицах ходило множество бродяг и нищих, как настоящих, так и «липовых», а также аферистов разного рода.nВ 1947 году Москва была уже совершенно другим городом — столицей государства, пережившего тяжелую и кровавую войну. Хотя страна и переживала трудные послевоенные годы, проведение подобного праздника вызвало огромный патриотический подъем.n800-летний юбилей столицы решено было провести осенью, 7 сентября. Центром юбилейного торжества стал стадион «Динамо», где проходило большое спортивное представление, а на Москве-реке тем временем устроили водный праздник. Позже к москвичам с поздравительной речью обратился Иосиф Сталин, подчеркнув важную роль столицы в объединении русских земель и ее будущую задачу как «знаменосца новой эпохи».nnПразднование 800-летия Москвы около одноименной гостиницы на Манежной площади, сентябрь 1947 годаnnК празднику город принарядили: высадили 124 тыс. деревьев, улицы украсили флажками, электрическими гирляндами, плакатами и портретами национальных героев. На площадях соорудили танцевальные площадки, в киосках торговали сувенирами и мороженым. Играли духовые оркестры, музеи и театры были переполнены посетителями.nВ этот день были заложены фундаменты восьми высотных зданий, семь из которых достроены и сегодня являются одним из символов Москвы.nГлавное здание МГУ, жилой дом на Кудринской площади, гостиница «Украина», здание Министерства иностранных дел и другие — в современных путеводителях их часто называют «семь сестер». Также в городе состоялся многотысячный митинг, посвященный установке памятника основателю столицы — Юрию Долгорукому.nВечером центр столицы осветили огни иллюминации. Завершился юбилей праздничным салютом и фейерверками. Аэростаты подняли в небо огромное изображение Сталина. При этом свет прожекторов был направлен так, чтобы зрители могли видеть только портрет вождя.nВ 1997 году 850-летие Москвы отмечали с большим размахом на протяжении трех дней. Именно тогда зародилась новая традиция ежегодно праздновать в первые выходные сентября День города.nnТеатрализованное шествие «На нашей улице праздник» во время празднования 850-летия Москвы, сентябрь 1997 годаnnОдним из самых значимых событий стало воссоздание Храма Христа Спасителя, взорванного в 1931 году. В день юбилея здание было торжественно освящено Патриархом. Кроме того, к памятной дате было приурочено открытие новых или отреставрированных знаковых сооружений – первая очередь Московского зоопарк, Музей археологии и других. На Москве-реке был построен единственный в России торгово-пешеходный мост «Багратион». Именно к 850-летию столицы, впрочем, в городе появились и куда менее любимые столичными жителями объекты, например, памятник Петру Великому или обновленная Манежная площадь с торговым центром «Охотный ряд».nПо Тверской улице, которая стала пешеходной, прошел красочный парад с движущимися платформами, в том числе в виде змея, пораженного святым покровителем Москвы Георгием Победоносцем. Участие в параде принял даже самый настоящий слон!nНо главным событием стало грандиозное лазерное шоу на Воробьевых горах, где выступил французский музыкант Жан-Мишель Жарр. Во время представления стены главного здания МГУ были использованы в качестве огромных экранов, на которых показывали кадры из истории России. В качестве специальных гостей выступили космонавты с Международной Космической Станции «Мир»: видео с ними транслировалось на фасад МГУ.nНа концерте побывали около 3,5 млн человек, из которых 500 тысяч собрались непосредственно перед зданием, а остальные наблюдали за происходящим с соседних улиц. Поскольку это было первым настолько масштабным событием в истории города, а число зрителей, судя по всему, в разы превзошло даже самые смелые ожидания, городская инфраструктура оказалась не готова к такому наплыву пассажиров. В итоге многие зрители смогли воспользоваться общественным или вообще хоть каким-нибудь транспортом лишь спустя несколько часов после окончания концерта, добравшись домой уже ближе к утру.nГлавной темой юбилея в этом году станут важнейшие достижения москвичей — в науке, искусстве и спорте, которые определили особое место города в мировой истории. Мероприятия будут посвящены выдающимся ученым, инженерам, архитекторам, режиссерам, актерам, художникам, музыкантам и спортсменам Москвы.nГлавной площадкой в эти два дня станет Тверская улица, которую поделят на шесть тематических площадок: «Москва покоряет», «Москва строит», «Москва изобретает», «Москва открывает», «Москва созидает» и «Москва ставит рекорды». Их украсят более 200 оригинальных арт-объектов. К примеру, на Тверской можно будет увидеть модель орбитальной космической станции «Салют-7» (практически в натуральную величину), арт-объекты в виде всех семи сталинских высоток Москвы, зданий Рижского и Ярославского вокзалов, модели Шуховской башни и скульптуры «Рабочий и колхозница».nА по скалодрому в виде башен «Москва-Сити» высотой порядка 10 метров можно будет карабкаться!nЧто касается знаковых объектов, открытых в честь 870-летия города, то главным из них, безусловно, станет парк «Зарядье» в самом центре Москвы.',\n",
              " 'Приехав в 2022 году во Владивосток, ни один турист не узнает город, в котором он когда-то бывал. АИЖК и КБ «Стрелка» представила участникам Восточного экономического форума (ВЭФ-2017) план благоустройства города, рассчитанный на ближайшие пять лет. «Газета.Ru» рассказывает о подробностях проекта обновления одного из главных центров Дальнего Востока.nnПо замыслу АИЖК и КБ «Стрелка», которые занимались разработкой проекта, во Владивостоке проведут обустройство ключевых общественных пространств города. В основном «ремонт» коснется приморских районов города. Это Набережная улица от улицы Светланской до Красноармейского переулка; 1-я Морская улица и площадь перед вокзалом по Алеутской улице; набережная Амурского залива от пляжа на мысе Кузнецова до переулка Шевченко; набережная Амурского залива от Красноармейского переулка до стадиона МГУ им. Невельского; территории между Корабельной набережной и улицей Светланской у Золотого моста.nОбщая площадь территории, на которой будет проведено благоустройствосоставляет 27,3 га.nnСхема благоустройства общественных пространств Владивостока в 2018-2022 годах. По территориям, обозначенным оранжевым цветом, в 2017 году начались предпроектные работыnnОдной из основных целей проекта во Владивостоке станет повышение оборота розничной торговли. По данным за 2015 год, которые приводят авторы проекта, розничный оборот составил лишь 35,4 млрд руб., а оборот общественного питания 2,3 млрд руб. Это самый низкий показатель в федеральном округе. Для сравнения, в Хабаровске, имеющим сопоставимую численность населения и среднемесячную зарплату, оборот розничной торговли составил 185,7 млрд руб., а оборот общественного питания — 11,7 млрд руб.nЧтобы создать план, по которому улицам Владивостока будут придавать новый облик, КБ «Стрелка» провела исследование заполняемости улиц, а также интереса к объектам строительства разных групп населения – местных жителей, туристов, спортсменов. Для этого исследователи провели анализ выложенных в социальные сети фотографий, которые сделали на попавших в проект реновации территорий. Иными словами, сделали «тепловую карту», цвет которой меняется в зависимости от частоты фотографирования на тех или иных местах.nСогласно полученным данным, большинство объекты имеют одинаковую «популярность» у горожан, при этом уровень посещаемости напрямую зависит от транспортной инфраструктуры. Наиболее популярными специалисты назвали районы улицы Набережная от улицы Светланской до переулка Красноармейский, район 1-й Морской улицы и площади перед вокзалом по улице Алеутская и район набережной Амурского залива от пляжа на мысе Кузнецова до переулка Шевченко.nНесмотря на это, последние два района, согласно анализу Центра городской антропологии КБ «Стрелка», имеют один из худших показателей по степени восприятия посетителями.nВ районе площади перед вокзалом жители недовольны пробками и плохой транспортной инфраструктурой, а на набережной горожане ждут появления сквозных пешеходной и велосипедной зон, соединяющих южную и северную части Владивостока. Последняя из претензий стала одним из первых пунктов в проекте благоустройства территорий.nТакже при разработке проекта урбанисты оценили уровень коммерческой эффективности на указанных территориях — по сравнению с другими прибрежными зонами центра Владивостока он оказался низким.n«Наиболее эффективными территориями можно считать те территории, на которые приходится высокий пешеходопоток. Если улицы, набережные, парки и площади будут привлекать к себе людей за счет культурно-событийной программы или качественного благоустройства, то бизнесы будут увеличивать свою прибыль за счет роста спроса, — объясняет партнер КБ «Стрелка» Александра Сытникова. — Как только спрос будет расти, будет рождаться предложение, что выльется в открытие новых бизнесов. За счет правильной конкуренции качество оказываемых услуг будет только расти, повышая общий уровень качества жизни».nДля развития торговли в попавших под обновления частях дальневосточного города будут создавать зоны отдыха и уличные пространства кафе. Перспективным, по мнению урбанистов, решением может стать передача первых этажей зданий для общественных и коммерческих целей.nОтдельной и не самой простой задачей программы, которая, по задумке, должна вместе с благоустройством повысить эффективность использования территорий, станет развитие набережной Амурского залива от переулка Красноармейский до стадиона МГУ им. Невельского. Как отметили исследователи, часть этой территории «непригодна для развития ритейла в связи с отсутствием пешеходных потоков». Данной городской зоной займутся в период с 2018 по 2022 годы.nПервой в очереди на обновление в программе значится будущий «главный пешеходный путь» Владивостока — улица НабережнаяnПо задумке, эта территория в большей степени подойдет местным семьям с детьми и туристам. На участке улицы Набережной от улицы Светланской до переулка Красноармейский уже начались предпроектные работы. Само начало благоустройства вместе с подготовительными работами по остальным территориям запланировано на 2018 год.',\n",
              " '305 лет назад Сенат переехал в Петербург, окончательно отобрав статус столицы у Москвы. Сколько камней надо было заплатить за въезд в Петербург, как зародилось противостояние между москвичами и петербуржцами и какой город исторически толерантнее — в материале «Газеты.Ru».nПереезд столицы случился не в одночасье. Еще в 1710 году Петр I бесплатно раздал земли 15 тыс. ремесленникам, чтобы те заселили берега Невы. С начала основания города в 1703 году ежегодно в Петербург присылали около 40 тыс. работников и мастеровых, чтобы те помогали строить и развивать город.nС 1710 года в течение следующих четырех лет царские чиновники, дипломатический корпус, органы исполнительной власти и Правительствующий сенат покидали Белокаменную и переезжали на постоянное жительство в новую столицу. В 1712 году сюда переехал Царский двор и семейство Петра I, причем переезд ознаменовался венчанием царя с Екатериной Алексеевной. Этим событием Петр I подчеркнул значимость молодого города.nЗимой Петр I вместе со своей семьей жил в Свадебных палатах (позднее их расширили до Зимнего дворца), а летом в своем Летнем дворце.nКстати, изначально район, в котором жили царская семья и их приближенные, назывался Московской стороной.nРайон этот, как и весь Петербург, имел строгую прямоугольную планировку улиц и кварталов в противовес радиально-кольцевой планировке Москвы, которая веками складывалась стихийно. Сегодня похожую шахматную планировку имеют Петербург, Пекин и Чикаго, а радиальную — Москва, Париж, Вена, Берлин и Брюссель.nХотя Петербург стал столицей Российского царства, молодому городу было еще очень далеко до богатства европейских столиц. Лишь главные улицы в центре города были мощеными, окрестности Петербурга были практически не освоены: сплошное болото. Современники Петра рассказывали, что в те годы, чтобы найти чью-то квартиру, надо было хорошенько описать местность, а помочь ее найти мог только житель той же стороны.nНесмотря на это, Петербург отстроили в рекордно короткие сроки — мало какой современный объект сдается так быстро! «Москва строилась веками, а Петербург миллионами». Еще при жизни Петра здесь были возведены дворцы, разбито множество садов. В последующие годы иностранные дипломаты один за другим впервые посещали новую русскую столицу. Вот, например, как вспоминал этот город член польского посольства примерно в 1720 году: «Здесь всякий сенатор, министр и боярин должен иметь дворец; иному пришлось выстроить и три, когда приказали.nСчастлив был тот, кому отведено сухое место, но кому попалось болото и топь, тот порядком нагрел себе лоб, пока установил фундамент...nЗдесь есть церкви, коллегии, дворцы и лавки, где можно получить все... Дворцы громадные, каменные, с флигелями, кухнями и удобствами, но только они наскоро построены, так что при малейшем ветре валятся черепицы. Сады очень красивые».nКонечно, в мыслях царя Петербург стал центром Российского царства задолго до этих событий. Еще при закладке Петропавловской крепости Петр I мечтал посреди болот и туманов, как она станет первым зданием будущей блестящей столицы. В письме графу Меншикову от 1704 года царь уже называл «Питербурх» столицей.nС 1700 года Россия участвовала в Северной войне против Швеции, у Петра были грандиозные планы: добыть выход в Балтийскому морю и, наконец, сделать отсталую Россию сильной державой, с которой будет считаться Европа. Необходимо было построить город-порт, который сможет принимать иностранные суда и станет важной торговой точкой. Так появился Петербург. Причем в то время де-юре эти земли принадлежали Швеции (хоть они и были очень плохо освоены), так что Петр основал Петербург на территории Швеции. Известно, что царь обладал вспыльчивым и нетерпеливым нравом, видимо, с переносом столицы, так же как и с ее основанием, он решил не медлить.nЭто единственный случай в истории России, когда столица девять лет находилась на территории другой страны.nС окончанием Северной войны и подписанием Ништадтского мирного договора земля, на которой находился Петербург, официально стала принадлежать России.nСчитается, что перенос столицы из Москвы был связан не только со стратегическим положением Петербурга. Царь родился и вырос в Белокаменной, но страшные воспоминания о Стрелецком бунте навсегда отвратили его от этого города. Петр не любил Москву, она казалась ему тесной и старомодной, везде он встречал «закоренелую старину и упрямое сопротивление суеверия и предрассудков». К тому же царь «болел» флотом и созданием кораблей. Он стремился к воде, и Петербург был идеальным в этом плане местом. Вполне вероятно, что топкая местность и влажный климат, которые пугали его современников, Петру казались прекрасными условиями для портового города.n«Лучшее его удовольствие — быть на воде… Однажды, когда Нева уже почти замерзла и незамерзшей воды осталось только перед дворцом на сто шагов, он не переставал, однако, плавать взад и вперед в каком-то кораблике до тех пор, пока было возможно. Когда Нева совсем замерзла, то он приказал вдоль берега прочистить дорогу шагов на сто в длину и на тридцать в ширину и здесь каждый день катался на гладком льде на буере (лодка на коньках для катания по льду — Газета.Ru»)», — так описывал один иностранец безудержную страсть Петра к водной стихии.nНекоторые современники Петра скептически относились к Петербургу из-за его географического положения. Так,nНиколай Карамзинnв «Истории государства Российского» писал, чтоn«основание новой столицы на северном крае государства, среди зыбей болотных, в местах, осужденных природою на бесплодие и недостаток» является «блестящей ошибкой Петра Великого».nПричем историк был против именно переноса столицы: «… он мог заложить на берегах Невы купеческий город для ввоза и вывоза товаров; но мысль утвердить там пребывание государей была, есть и будет вредною».nДругим новая столица не нравилась, потому что олицетворяла собой новые, ненавистные им порядки. Существует легенда, согласно которой царевич Алексей Петрович повторил слова, будто бы сказанные его матерью Евдокией Лопухиной (она в то время уже находилась в заточении в монастыре): «Еще де сказывала, что Питербурх не устоит за нами: «Быть-де ему пусту; многие-де о сем говорят».nПока Царский двор переезжал в Петербург, Москва стремительно теряла позиции стольного града. Беда не приходит одна: в 1712 году Москву покинул царь, и в этом же году здесь случился крупный пожар, в котором погибли люди, сгорели центральная и западная часть города, девять монастырей, 54 церкви, 4,5 тысячи дворов. Да еще и с 1714 года по всей России (в том числе и в Москве) было запрещено каменное строительство — все ради того, чтобы рос и процветал любимый Петров град. Более того, в то время никто не мог въехать в Петербург без камня.nВсе, кто приезжал на телегах или санях, должны были привезти два-три камня; прибывающие с моря или с Ладожского озера обязаны были привезти на своих кораблях или лодках по нескольку десятков камней-булыжников.nКамни сдавали начальнику Канцелярии городовых дел Ульяну Акимовичу Сенявину.nМоскву стали называть «вдовствующей столицей». Очевидно, что соперничество двух городов зародилось с самого начала переноса столицы, а со временем разница между образом жизни двух городов только росла. Петр, всю жизнь боровшийся против традиционного уклада, стремился сделать свой город максимально европейским. Московские бояре, по его мнению, тормозили прогресс. Те, в свою очередь, считали Петра чуть ли не антихристом, который заставляет их брить бороды, пудрить волосы, а вместо просторной русской одежды носить чулки и короткополые кафтаны!nТак с тех пор и повелось: Петербург стал шумной столицей с роскошными светскими приемами и европейскими развлечениями, а Москва сохранила за собой статус истинно русского города, даже европейские новшества здесь приняли, изменив их под русский быт. В то время современное выражение «Москва не вся Россия» скорее было применимо к Петербургу.n«Они [москвичи] жили по-своему, забавлялись как хотели, мало заботясь о мнении ближнего. Бывало, богатый чудак выстроит себе на одной из главных улиц китайский дом с зелеными драконами, с деревянными мандаринами под золочеными зонтиками. Другой выедет в Марьину Рощу в карете из кованого серебра 84-й пробы. Третий на запятки четвероместных саней поставит человек пять арапов, егерей и скороходов и цугом тащится по летней мостовой. Щеголихи, перенимая петербургские моды, налагали и на наряды неизгладимую печать. Надменный Петербург издали смеялся и не вмешивался в затеи старушки Москвы», — писал Александр Пушкин.nМоскву не зря прозвали Златоглавой, городской пейзаж действительно во многом состоял из куполов православных храмов. К началу XVIII века в Москве действовали католические и лютеранские общины, но Петербург отличался большим разнообразием конфессий. Петр I изначально задумывал новую столицу как город веротерпимости, взяв пример с Амстердама (столица Голландии и в то время была одним из самых толерантных городов Европы). Еще в 1702 году Петр издал указ, который разрешал неправославным христианам свободно строить храмы и служить в них. Эта мера была частью политики Петра по привлечению в Россию иностранных умов — с самого основания Петербурга здесь селились шведы и финны (коренные жители и военнопленные), а затем немцы и голландцы. Первый русский император мог бы гордиться петербуржцами:nв 1858 годуnАлександр Дюмаn, посетив Петербург, назвал Невский проспект «улицей веротерпимости»,nтак как там соседствовали Казанский собор,nримско-католическая церковьnСвятой Екатерины, лютеранский храм апостола Петра и армянская апостольская церковь.nСанкт-Петербург вообще заселялся очень активно, но в XVIII веке его численность так и не превысила количество москвичей: 175 тыс. жителей Белокаменной против 90 тыс. петербуржцев. А вот с начала XIX века население двух городов менялось обратнопропорционально: к 1862 году в Москве жило 378 тыс. человек, а население Петербурга за полвека выросло больше, чем в пять раз — до 500 тыс. К началу Первой мировой войны Петербург занимал третье место в Европе после Лондона и Парижа по численности населения: более 2 млн. жителей. Население Первопрестольной в 1912 году составляло чуть больше 1,6 млн человекnВ 1727 году Москва неожиданно снова стала столицей.nАлександр Меншиковn, бывший регентом при императоре Петре II, попал в немилость и был сослан. Знатные бояре, жившие в Москве, активно способствовали тому, чтобы юный император Петр II (ему в то время было 12 лет) переехал жить в Москву. Причиной было и то, что единственная живая родственница наследника престола Евдокия Лопухина (та самая, что, по слухам, прокляла Петербург) жила в московском Новодевичьем монастыре. В 1730 году 15-летний император неожиданно скончался, он был похоронен в Москве, а Петербург во второй раз стал столицей России и оставался ей до 1918 года. Пушкин писал, что, «когда старая наша аристократия возымела свою прежнюю силу и влияние, Долгорукие чуть было не возвратили Москве своих государей; но смерть молодого Петра II снова утвердила за Петербургом его недавние права».nНо несмотря на это, коронации всех российских монархов все равно проходили в Первопрестольной. В 1724 году Петр I приехал в Москву на коронацию в Успенском соборе своей супруги, будущей императрицы Екатерины I. Как видно, Петр нарушал не все традиции.nВ 1918 году столицу вновь перенесли из Петербурга (в то время Петрограда) в Москву. На этот раз по решению большевиков и тоже по стратегическим соображениям: слишком близко к городу на Неве находились вражеские войска. Перенос столетней давности пока видится окончательным: несмотря на то что предложения отобрать у Москвы столичный статус встречаются достаточно регулярно, все остается на уровне разговоров.',\n",
              " 'В июле депутаты Госдумы ушли на каникулы, оставив после себя как минимум одно неплохое решение. В 2017 году начнется реставрация палат Троекуровых, которые много лет стояли в запустении во дворе парламентского здания на Охотном Ряду — столь скромно, что немногие вообще знали об их существовании. И это типично. «Газета.Ru» о потаенной белокаменной Москве.nn#Adcenter_Vertical .partner_material_item{nmin-height: 45px;nmargin: 7px 20px;n}n#Adcenter_Vertical .sausage-header{nposition: relative;ndisplay: block;nheight: 37px;nmargin-left: 20px;nfont: bold 21px/38px \\'PT Sans\\', sans-serif;ncolor: #333;nletter-spacing: 0.01em;nborder-bottom: 1px solid #dfdfdf;n}n#Adcenter_Vertical .x80_80{nmax-width: 60px;nmax-height: 60px;nmargin-right: 10px;nfloat: left;n}n#Adcenter_Vertical .partner_material_item_text{nfloat:left;nmax-width: 175px;n}n#Adcenter_Vertical .partner_material_item_text_value{nfont-family: \"PT Sans\";nfont-size: 13px;nline-height: 15px!important;ndisplay: block;n}n#Adcenter_Vertical .partner_material_item_text_value:hover{ncolor: #b11116;n}ndiv#Adcenter_Vertical{nfloat: left;nwidth: 305px;nmargin-bottom: 20px;nmargin-right: 20px;ndisplay:none;n}n.AdCentre_new_adv{display:none;}nПалаты Троекуровых могли бы стать украшением Охотного Ряда — улицы, которая, возможно, больше других изменила свой вид в XX веке. До революции на месте здания Госдумы стояли церковь Параскевы Пятницы и палаты Голицына. Оба здания в 1930-х годах снесли (палаты Голицыных, по старой советской традиции, предварительно отреставрировали). Соседние палаты по неизвестной причине уцелели.nnОбтянутые фальш-фасадом «Палаты Троекурова», 2015 годnnИх построил для себя могущественный глава Стрелецкого приказа Иван Троекуров, получивший должность за то, что во время стрелецкого бунта 1689 года перешел на сторону Петра I. На новоселье царь подарил соратнику сорок соболей.nНа протяжении столетий владельцы здания менялись. Сложно представить, но в середине XX века во дворе нынешней Госдумы даже были коммуналки. Так, в 1956 году там проживало 268 человек (89 семей). В 1990-е доступ на территорию двора закрыли, и палаты оказались никому не нужны. Редкие экскурсанты могли разглядывать фальшфасад некогда блестящего памятника архитектуры XVII века исключительно из-за забора.nn«Палаты Троекурова», 2001 годnnВ Москве несколько десятков палат XVI–XVII веков, но на виду лишь единицы. Старый английский двор и палаты бояр Романовых отреставрированы и открыты для туристов. Но для того, чтобы увидеть львиную долю их менее статусных собратьев, надо прилично извернуться. Многие палаты скрываются во дворах, как, например, Стрелецкие палаты в Лаврушинском переулке (со всех сторон они окружены серой махиной «писательского дома») или палаты Сверчковых в одноименном переулке, похожие на сказочный теремок из-за разномастных окон. Кстати, именно в этих палатах после 1779 года находилась школа чертежников, где в том числе преподавал сам Василий Баженов, тут же изготавливали детали для огромной деревянной модели Большого Кремлевского дворца, которую потом в качестве «пробника» отвозили в Петербург для одобрения императрицы. С 1813 года в Сверчковых палатах работала знаменитая Комиссия для строений, созданная по приказу Александра I для восстановления Москвы в едином стиле после наполеоновского пожара. А с 1865 года в палатах жил основоположник знаменитой династии кондитеров Абрикосовых и его многочисленное семейство, позже занявшее почти все дома в нынешнем Сверчковом переулке.nn«Стрелецкие палаты» в Лаврушинском переулкеnnДопетровская архитектура в Москве похожа на Ватикан или Лесото — это практически всегда анклав, окруженный более поздней застройкой.nЗа три столетия городская ткань драматически уплотнилась, и там, где раньше были сады, луга или просто пустыри, выросли дома. Те же палаты Сверчковых когда-то стояли на берегу пруда — сейчас на его месте школа. Такая вот московская диалектика «из грязи в князи» и наоборот. Некогда самые роскошные строения в городе (каменное зодчество вплоть до конца XIX века было чрезвычайно затратным, и город в большей своей части был деревянным) оказались вытесненными из поля зрения второстепенными зданиями.nВ городе, где коренным жителем может называть себя каждый четвертый, где лишь каждый третий живет на одном месте больше тридцати лет, словосочетание...n→nНо Москва — город загадочный, поэтому палаты здесь скрываются не только за домами, но и в самих домах. Дело в том, что на протяжении столетий у участка, где находится старинная постройка, могли смениться десятки владельцев, каждый из которых хотел переделать принадлежащую ему домину на свой лад. До середины XIX века памятники старины не вызывали у московских властей трепета, и их можно было беспрепятственно перестраивать, чем и пользовались владельцы участков. Ими двигали два мотива — архитектурная мода и рачительность. Вместо того чтобы сносить морально устаревшее здание, его перелицовывали на современный манер — штукатурили, украшали колоннами и лепниной, добавляли крыльца и флигели. Так к строгой кладке XVII века прирастали барочные наличники, как у палат Аверкия Кириллова, или ампирные мезонины, как у палат в Среднем Овчинниковом переулке. В итоге получался этакий дом-матрешка с элементами разных эпох — где в подвалах может быть и XV, и XVI века, в первых этажах XVII век, в остальном XVIII и XIX века.nnПалаты Аверкия Кириллова на Берсеневской набережной, 2014 годnnЗа столетия палаты меняются до неузнаваемости, и со стороны сложно понять, какой эпохи строение перед вами. То, что кажется классицизмом или ампиром, может запросто оказаться XVII веком. Что делать?nМожно, например, проникнуть во двор под замком — как с палатами на Хитровке, скрытыми от улицы угрюмого вида домом, где Данила Багров забирал оружие у Фашиста в «Брате-2». На стенах оригинальные изразцы времен Алексея Михайловича.nК слову, это, пожалуй, единственное в Москве жилое здание такого возраста — первый этаж дома был построен в середине XVII века. Причем древняя кладка обнаружилась лишь после того, как от ветшающего дома отвалился солидный кусок штукатурки. В доме в начале 1870-х годов размещались пять чайных, а также скобяная, винная и овощная лавки, квартиры небогатых торговцев и ремесленников, ночлежки и даже покойницкая. Бытописатели того времени отмечали, что ночлежки в этом доме были еще приличными относительно остальных домов на Хитровке: там могли жить мелкие торговцы, ремесленники и переписчики театральных пьес, придававшие, по выражению Гиляровского, дому характер «аристократический и скромный».nВариант с проникновением во двор под замком кажется слишком экстремальным (и незаконным), поэтому можно просто заглянуть в окна — как в 1-м Кадашевском переулке. Там легко обнаружить нетипичные для более поздних веков сводчатые потолки. Можно обойти дом с другой стороны — как в Толмачевском переулке. У здания, расположенного там, сбоку из-под усадьбы XIX века «вылезают» кирпичные наличники века XVII.nn«Палаты Сверчковых.» Главный фасадnnИногда старинные палаты маскируются под относительно современные здания. Так, например, произошло с Тургеневской библиотекой, которая считалась памятником архитектуры XVIII–XIX веков, пока в 2000-х в ее составе не обнаружилось еще одно полноценное здание. Заметить скрытые палаты также можно, если приглядеться к окнам — как в палатах Гурьева, которые вроде бы обычный доходный дом, но первый этаж расположен подозрительно низко. В итоге здание представляет собой своеобразный «слоеный пирог», собравший культурный слой за три века. Впрочем, в сами окна можно даже не заглядывать, а просто посмотреть на них и попытаться поискать странности. Именно с таким настроем стоит подойти к метеостанции Балчуг, классический облик которой наполняют новыми смыслами несимметричные окна, намекающие на перестройки более ранние, чем XVIII век.nn«Палаты Сверчковых.» Главный фасадnnВ общем, палаты, в отличие от палаток, в Москве никто не запрещал — как и их поиски, в которых внимательному читателю можно теперь пожелать удачи. Благо впереди еще месяц лета.',\n",
              " 'В Нагатинской пойме в Москве может появиться аналог Диснейленда. Об этом сообщил мэр столицы Сергей Собянин. «Очевидно, что городу необходим такой тематический парк. Проект создания его в Нагатинской пойме есть. Постараемся в этом году провести конкурс и привлечь инвесторов»,\\xa0- сказал он.nПо словам столичного градоначальника, также в Нагатинской пойме планируется сделать хорошие подходы к Москве-реке. Кроме того, летом вдоль реки предполагается создать и самый длинный велосипедный маршрут\\xa0- от «Музеона» до парка Победы.']"
            ]
          },
          "metadata": {},
          "execution_count": 59
        }
      ]
    }
  ]
}