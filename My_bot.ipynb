{
 "cells": [
  {
   "cell_type": "code",
   "execution_count": 32,
   "id": "08075177",
   "metadata": {},
   "outputs": [],
   "source": [
    "#импорт необходимых библиотек и модулей\n",
    "import os\n",
    "import logging\n",
    "import telegram\n",
    "import re\n",
    "from telegram import Update\n",
    "from telegram.ext import Updater, CommandHandler, MessageHandler, Filters, CallbackContext, CallbackQueryHandler\n",
    "from google.cloud import dialogflow\n",
    "\n",
    "#настройки dialogflow\n",
    "updater = Updater(\"5748761513:AAHaCuFWeIXSvoDIF2QZovJecdSZCLsYBcg\", use_context=True)  # Токен API к Telegram\n",
    "dispatcher = updater.dispatcher\n",
    "os.environ[\"GOOGLE_APPLICATION_CREDENTIALS\"] = 'aermolaevbot-fxea-e6f27deedf60.json'# скачaнный JSON\n",
    "\n",
    "\n",
    "DIALOGFLOW_PROJECT_ID = 'aermolaevbot-fxea' #PROJECT ID из DialogFlow \n",
    "DIALOGFLOW_LANGUAGE_CODE = 'ru' # язык\n",
    "SESSION_ID = 'AErmolaevbot'  # ID бота из телеграмма"
   ]
  },
  {
   "cell_type": "code",
   "execution_count": 33,
   "id": "8478d0a9",
   "metadata": {},
   "outputs": [],
   "source": [
    "#обработка команды старт (создаем Inline клавиатуру)\n",
    "def startCommand(update: Update, context: CallbackContext):\n",
    "    buttonA = telegram.InlineKeyboardButton('Получить тему курсовой работы', callback_data='buttomA')\n",
    "    buttonB = telegram.InlineKeyboardButton('Поговорить', callback_data='buttomB')\n",
    "    buttonE = telegram.InlineKeyboardButton('Прогноз погоды', callback_data='buttomE')\n",
    "    markup = telegram.InlineKeyboardMarkup(inline_keyboard = [[buttonA], [buttonB], [buttonE]])\n",
    "    \n",
    "    update.message.reply_text('Добрый день! Чтобы начать работу, выберите одно из возможных действий', \n",
    "                              reply_markup = markup)\n",
    "    return callback\n",
    "    \n",
    "#обработка нажатия клавиш клавиатуры\n",
    "def callback(update: Update, context: CallbackContext):\n",
    "    query = update.callback_query\n",
    "    variant = query.data\n",
    "    if variant == 'buttomA':\n",
    "        query.answer()\n",
    "        query.edit_message_text(text='О чем хотите писать курсовую? (форма ответа: \"Курсовая: примерная тема\")')\n",
    "    \n",
    "    if variant == 'buttomB':\n",
    "        query.answer()\n",
    "        query.edit_message_text('Давайте поговорим')\n",
    "    \n",
    "    if variant == 'buttomE':\n",
    "        query.answer()\n",
    "        query.edit_message_text(text='Напишите: \"Город: свой город\"')"
   ]
  },
  {
   "cell_type": "markdown",
   "id": "3173d17d",
   "metadata": {},
   "source": [
    "## Прогноз погоды"
   ]
  },
  {
   "cell_type": "code",
   "execution_count": 34,
   "id": "9874dc7f",
   "metadata": {},
   "outputs": [],
   "source": [
    "#импорт необходимых библиотек и модулей\n",
    "from geopy import geocoders\n",
    "from yaweather import Russia, YaWeather\n",
    "\n",
    "#функция получения погоды\n",
    "def get_weather(city: str):\n",
    "    geolocator = geocoders.Nominatim(user_agent=\"telebot\")\n",
    "    latitude = geolocator.geocode(city).latitude\n",
    "    longitude = geolocator.geocode(city).longitude\n",
    "    y = YaWeather(api_key='f5fc7043-3196-49ed-9848-02c19a3ba8e4')\n",
    "    res = y.forecast((latitude, longitude))\n",
    "    forecast = f'cейчас {res.fact.temp} °C, oщущается как {res.fact.feels_like} °C'\n",
    "    return forecast\n",
    "\n",
    "#печать прогноза погоды\n",
    "def print_weather(update: Update, context: CallbackContext):\n",
    "    city = update.message.text\n",
    "    forecast = get_weather(re.sub(r'Город: ','',city))\n",
    "    update.message.reply_text(f'Погода в городе {city[7:]}: {forecast}', parse_mode='Markdown')"
   ]
  },
  {
   "cell_type": "markdown",
   "id": "05d1d4bb",
   "metadata": {},
   "source": [
    "## Болталка"
   ]
  },
  {
   "cell_type": "code",
   "execution_count": 35,
   "id": "ba18e973",
   "metadata": {},
   "outputs": [],
   "source": [
    "#болталка\n",
    "def detect_intent_texts(project_id, session_id, text, language_code):\n",
    "    session_client = dialogflow.SessionsClient()\n",
    "    session = session_client.session_path(project_id, session_id)\n",
    "    \n",
    "    text_input = dialogflow.TextInput(text=text, language_code=language_code)\n",
    "    query_input = dialogflow.QueryInput(text=text_input)\n",
    "\n",
    "    response = session_client.detect_intent(\n",
    "        request={\"session\": session, \"query_input\": query_input}\n",
    "    )\n",
    "        \n",
    "    return response.query_result.fulfillment_text\n",
    "\n",
    "def textMessage(update: Update, context: CallbackContext):\n",
    "  \n",
    "    text_user = update.message.text\n",
    "       \n",
    "    text_bot = detect_intent_texts(DIALOGFLOW_PROJECT_ID, SESSION_ID, text_user, DIALOGFLOW_LANGUAGE_CODE)\n",
    "    if text_bot:\n",
    "        update.message.reply_text(text_bot)\n",
    "    else:\n",
    "        update.message.reply_text('Что?')"
   ]
  },
  {
   "cell_type": "markdown",
   "id": "73a0d8e8",
   "metadata": {},
   "source": [
    "## Получение темы курсовой"
   ]
  },
  {
   "cell_type": "code",
   "execution_count": 36,
   "id": "3e2b84f1",
   "metadata": {},
   "outputs": [],
   "source": [
    "#импорт необходимых библиотек и модулей\n",
    "import pandas as pd\n",
    "import string\n",
    "import annoy\n",
    "import pickle\n",
    "import numpy as np\n",
    "import tqdm \n",
    "from tqdm import tqdm_notebook\n",
    "from pymorphy2 import MorphAnalyzer\n",
    "from stop_words import get_stop_words\n",
    "from gensim.models import Word2Vec, FastText"
   ]
  },
  {
   "cell_type": "code",
   "execution_count": 37,
   "id": "f24a3995",
   "metadata": {},
   "outputs": [],
   "source": [
    "#препроцессинг текста\n",
    "morpher = MorphAnalyzer()\n",
    "sw = set(get_stop_words(\"ru\"))\n",
    "exclude = set(string.punctuation)\n",
    "\n",
    "#0. датасет с темами\n",
    "df = pd.read_excel('theme.xlsx')\n",
    "\n",
    "#1. Функция преобразования темы (лемматизация, удаление стоп-слов и пунктуации)\n",
    "def preprocess_txt(line):\n",
    "    spls = \"\".join(i for i in line.strip() if i not in exclude).split()\n",
    "    spls = [morpher.parse(i.lower())[0].normal_form for i in spls]\n",
    "    spls = [i for i in spls if i not in sw and i != \"\"]\n",
    "    return spls\n",
    "\n",
    "#2. Процедура подготовки данных к обучению (создание списка токенов для каждой темы)\n",
    "assert True\n",
    "tweet_tokens = []\n",
    "\n",
    "for text in df['Theme']:\n",
    "    tweet_prep = preprocess_txt(text)\n",
    "    tweet_tokens.append(tweet_prep)\n",
    "    \n",
    "#3. Функция поиска 5 ближайших тем\n",
    "def get_response_theme(tweet, index, model, index_map):\n",
    "    tweet_token = preprocess_txt(tweet)\n",
    "    vector = np.zeros(300)\n",
    "    norm = 0\n",
    "    for word in tweet_token:\n",
    "        if word in model:\n",
    "            vector += model[word]\n",
    "            norm += 1\n",
    "    if norm > 0:\n",
    "        vector = vector / norm\n",
    "    similar_tweet = index.get_nns_by_vector(vector, 5)\n",
    "    \n",
    "    result = [index_map[i] for i in similar_tweet]\n",
    "    return result\n",
    "\n",
    "#4. Процедура поиска ближайшей темы\n",
    "def get_model_index(model):\n",
    "    model_index = annoy.AnnoyIndex(300 ,'angular') # поиск ближайших соседей\n",
    "\n",
    "    index_map = {}\n",
    "    counter = 0\n",
    "\n",
    "    for tweet in df['Theme']:\n",
    "        n_model = 0\n",
    "        index_map[counter] = tweet\n",
    "        tweet_prep = preprocess_txt(tweet)\n",
    "        \n",
    "        vector_model = np.zeros(300) #вектор твита\n",
    "\n",
    "        for word in tweet_prep:\n",
    "            if word in model:\n",
    "                vector_model += model[word]\n",
    "                n_model += 1\n",
    "        if n_model > 0:\n",
    "            vector_model = vector_model / n_model #нормализуем вектор твита\n",
    "       \n",
    "        model_index.add_item(counter, vector_model) #добавляем элемент для индексации\n",
    "     \n",
    "        counter += 1\n",
    "\n",
    "        if counter > 100000:\n",
    "            break\n",
    "\n",
    "    model_index.build(10) #из индексов создаем лес из 10 деревьев\n",
    "    return model_index, index_map\n",
    "\n",
    "modelW2V = Word2Vec(sentences=tweet_tokens, vector_size=300, window=5, min_count=1)\n",
    "\n",
    "w2v_index, index_map = get_model_index(modelW2V.wv)\n",
    "\n",
    "#вывод темы курсовой работы\n",
    "def text_theme(update: Update, context: CallbackContext):\n",
    "    txt_q = update.message.text # текст который пришёл\n",
    "    answer = get_response_theme(re.sub(r'Курсовая: ','',txt_q), w2v_index, modelW2V.wv, index_map)\n",
    "    update.message.reply_text(f'Ваша тема: {answer[0]}', parse_mode='Markdown')"
   ]
  },
  {
   "cell_type": "markdown",
   "id": "60add206",
   "metadata": {},
   "source": [
    "## Хендлеры"
   ]
  },
  {
   "cell_type": "code",
   "execution_count": null,
   "id": "f5a9255d",
   "metadata": {},
   "outputs": [
    {
     "name": "stderr",
     "output_type": "stream",
     "text": [
      "Exiting immediately!\n"
     ]
    }
   ],
   "source": [
    "# Хендлеры\n",
    "start_command_handler = CommandHandler('start', startCommand)\n",
    "theme_handler = MessageHandler(Filters.regex('Курсовая: '), text_theme)\n",
    "weather_handler = MessageHandler(Filters.regex('Город: '), print_weather)\n",
    "callback_buttom_handler = CallbackQueryHandler(callback = callback, pattern=None, run_async=False)\n",
    "                                               \n",
    "# Добавляем хендлеры в диспетчер\n",
    "dispatcher.add_handler(start_command_handler)\n",
    "dispatcher.add_handler(theme_handler)\n",
    "dispatcher.add_handler(weather_handler)\n",
    "# Начинаем поиск обновлений\n",
    "updater.start_polling()\n",
    "# Останавливаем бота, если были нажаты Ctrl + C\n",
    "updater.idle()"
   ]
  },
  {
   "cell_type": "code",
   "execution_count": null,
   "id": "ed5b8364",
   "metadata": {},
   "outputs": [],
   "source": []
  }
 ],
 "metadata": {
  "kernelspec": {
   "display_name": "Python 3 (ipykernel)",
   "language": "python",
   "name": "python3"
  },
  "language_info": {
   "codemirror_mode": {
    "name": "ipython",
    "version": 3
   },
   "file_extension": ".py",
   "mimetype": "text/x-python",
   "name": "python",
   "nbconvert_exporter": "python",
   "pygments_lexer": "ipython3",
   "version": "3.8.12"
  }
 },
 "nbformat": 4,
 "nbformat_minor": 5
}
